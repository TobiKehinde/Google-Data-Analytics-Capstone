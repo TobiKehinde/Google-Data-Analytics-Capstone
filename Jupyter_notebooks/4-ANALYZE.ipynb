{
 "cells": [
  {
   "cell_type": "markdown",
   "id": "d662ecd2",
   "metadata": {},
   "source": [
    "# ANALYZE"
   ]
  },
  {
   "cell_type": "code",
   "execution_count": 1,
   "id": "36b9085a",
   "metadata": {},
   "outputs": [],
   "source": [
    "# Read ALL cleaned data files\n",
    "\n",
    "import pandas as pd\n",
    "\n",
    "data1 = pd.read_excel('cleaned_data/202203-divvy-tripdata.xlsx')\n",
    "data2 = pd.read_excel('cleaned_data/202204-divvy-tripdata.xlsx')\n",
    "data3 = pd.read_excel('cleaned_data/202205-divvy-tripdata.xlsx')\n",
    "data4 = pd.read_excel('cleaned_data/202206-divvy-tripdata.xlsx')\n",
    "data5 = pd.read_excel('cleaned_data/202207-divvy-tripdata.xlsx')\n",
    "data6 = pd.read_excel('cleaned_data/202208-divvy-tripdata.xlsx')\n",
    "data7 = pd.read_excel('cleaned_data/202209-divvy-tripdata.xlsx')\n",
    "data8 = pd.read_excel('cleaned_data/202210-divvy-tripdata.xlsx')\n",
    "data9 = pd.read_excel('cleaned_data/202211-divvy-tripdata.xlsx')\n",
    "data10 = pd.read_excel('cleaned_data/202212-divvy-tripdata.xlsx')\n",
    "data11 = pd.read_excel('cleaned_data/202301-divvy-tripdata.xlsx')\n",
    "data12 = pd.read_excel('cleaned_data/202302-divvy-tripdata.xlsx')\n",
    "\n",
    "# Merged the historical 12-year data into one data frame\n",
    "cyclistic_df = pd.concat([data1, data2, data3, data4, data5, data6, data7, data8, data9, data10, data11, data12], axis=0)"
   ]
  },
  {
   "cell_type": "code",
   "execution_count": 2,
   "id": "b938a5d9",
   "metadata": {},
   "outputs": [
    {
     "data": {
      "text/html": [
       "<div>\n",
       "<style scoped>\n",
       "    .dataframe tbody tr th:only-of-type {\n",
       "        vertical-align: middle;\n",
       "    }\n",
       "\n",
       "    .dataframe tbody tr th {\n",
       "        vertical-align: top;\n",
       "    }\n",
       "\n",
       "    .dataframe thead th {\n",
       "        text-align: right;\n",
       "    }\n",
       "</style>\n",
       "<table border=\"1\" class=\"dataframe\">\n",
       "  <thead>\n",
       "    <tr style=\"text-align: right;\">\n",
       "      <th></th>\n",
       "      <th>trip_id</th>\n",
       "      <th>bike_type</th>\n",
       "      <th>started_at</th>\n",
       "      <th>ended_at</th>\n",
       "      <th>start_station_name</th>\n",
       "      <th>start_station_id</th>\n",
       "      <th>end_station_name</th>\n",
       "      <th>end_station_id</th>\n",
       "      <th>start_lat</th>\n",
       "      <th>start_lng</th>\n",
       "      <th>end_lat</th>\n",
       "      <th>end_lng</th>\n",
       "      <th>user_type</th>\n",
       "      <th>trip_duration</th>\n",
       "      <th>day_of_week</th>\n",
       "    </tr>\n",
       "  </thead>\n",
       "  <tbody>\n",
       "    <tr>\n",
       "      <th>0</th>\n",
       "      <td>47EC0A7F82E65D52</td>\n",
       "      <td>classic_bike</td>\n",
       "      <td>2022-03-21 13:45:01</td>\n",
       "      <td>2022-03-21 13:51:18</td>\n",
       "      <td>Wabash Ave &amp; Wacker Pl</td>\n",
       "      <td>TA1307000131</td>\n",
       "      <td>Kingsbury St &amp; Kinzie St</td>\n",
       "      <td>KA1503000043</td>\n",
       "      <td>41.886875</td>\n",
       "      <td>-87.626030</td>\n",
       "      <td>41.889177</td>\n",
       "      <td>-87.638506</td>\n",
       "      <td>member</td>\n",
       "      <td>377</td>\n",
       "      <td>2</td>\n",
       "    </tr>\n",
       "    <tr>\n",
       "      <th>1</th>\n",
       "      <td>8494861979B0F477</td>\n",
       "      <td>electric_bike</td>\n",
       "      <td>2022-03-16 09:37:16</td>\n",
       "      <td>2022-03-16 09:43:34</td>\n",
       "      <td>Michigan Ave &amp; Oak St</td>\n",
       "      <td>13042</td>\n",
       "      <td>Orleans St &amp; Chestnut St (NEXT Apts)</td>\n",
       "      <td>620</td>\n",
       "      <td>41.900998</td>\n",
       "      <td>-87.623752</td>\n",
       "      <td>41.898203</td>\n",
       "      <td>-87.637536</td>\n",
       "      <td>member</td>\n",
       "      <td>378</td>\n",
       "      <td>4</td>\n",
       "    </tr>\n",
       "    <tr>\n",
       "      <th>2</th>\n",
       "      <td>EFE527AF80B66109</td>\n",
       "      <td>classic_bike</td>\n",
       "      <td>2022-03-23 19:52:02</td>\n",
       "      <td>2022-03-23 19:54:48</td>\n",
       "      <td>Broadway &amp; Berwyn Ave</td>\n",
       "      <td>13109</td>\n",
       "      <td>Broadway &amp; Ridge Ave</td>\n",
       "      <td>15578</td>\n",
       "      <td>41.978353</td>\n",
       "      <td>-87.659753</td>\n",
       "      <td>41.984045</td>\n",
       "      <td>-87.660274</td>\n",
       "      <td>member</td>\n",
       "      <td>166</td>\n",
       "      <td>4</td>\n",
       "    </tr>\n",
       "    <tr>\n",
       "      <th>3</th>\n",
       "      <td>9F446FD9DEE3F389</td>\n",
       "      <td>classic_bike</td>\n",
       "      <td>2022-03-01 19:12:26</td>\n",
       "      <td>2022-03-01 19:22:14</td>\n",
       "      <td>Wabash Ave &amp; Wacker Pl</td>\n",
       "      <td>TA1307000131</td>\n",
       "      <td>Franklin St &amp; Jackson Blvd</td>\n",
       "      <td>TA1305000025</td>\n",
       "      <td>41.886875</td>\n",
       "      <td>-87.626030</td>\n",
       "      <td>41.877708</td>\n",
       "      <td>-87.635321</td>\n",
       "      <td>member</td>\n",
       "      <td>588</td>\n",
       "      <td>3</td>\n",
       "    </tr>\n",
       "    <tr>\n",
       "      <th>4</th>\n",
       "      <td>431128AD9AFFEDC0</td>\n",
       "      <td>classic_bike</td>\n",
       "      <td>2022-03-21 18:37:01</td>\n",
       "      <td>2022-03-21 19:19:11</td>\n",
       "      <td>DuSable Lake Shore Dr &amp; North Blvd</td>\n",
       "      <td>LF-005</td>\n",
       "      <td>Loomis St &amp; Jackson Blvd</td>\n",
       "      <td>13206</td>\n",
       "      <td>41.911722</td>\n",
       "      <td>-87.626804</td>\n",
       "      <td>41.877945</td>\n",
       "      <td>-87.662007</td>\n",
       "      <td>member</td>\n",
       "      <td>2530</td>\n",
       "      <td>2</td>\n",
       "    </tr>\n",
       "  </tbody>\n",
       "</table>\n",
       "</div>"
      ],
      "text/plain": [
       "            trip_id      bike_type          started_at            ended_at  \\\n",
       "0  47EC0A7F82E65D52   classic_bike 2022-03-21 13:45:01 2022-03-21 13:51:18   \n",
       "1  8494861979B0F477  electric_bike 2022-03-16 09:37:16 2022-03-16 09:43:34   \n",
       "2  EFE527AF80B66109   classic_bike 2022-03-23 19:52:02 2022-03-23 19:54:48   \n",
       "3  9F446FD9DEE3F389   classic_bike 2022-03-01 19:12:26 2022-03-01 19:22:14   \n",
       "4  431128AD9AFFEDC0   classic_bike 2022-03-21 18:37:01 2022-03-21 19:19:11   \n",
       "\n",
       "                   start_station_name start_station_id  \\\n",
       "0              Wabash Ave & Wacker Pl     TA1307000131   \n",
       "1               Michigan Ave & Oak St            13042   \n",
       "2               Broadway & Berwyn Ave            13109   \n",
       "3              Wabash Ave & Wacker Pl     TA1307000131   \n",
       "4  DuSable Lake Shore Dr & North Blvd           LF-005   \n",
       "\n",
       "                       end_station_name end_station_id  start_lat  start_lng  \\\n",
       "0              Kingsbury St & Kinzie St   KA1503000043  41.886875 -87.626030   \n",
       "1  Orleans St & Chestnut St (NEXT Apts)            620  41.900998 -87.623752   \n",
       "2                  Broadway & Ridge Ave          15578  41.978353 -87.659753   \n",
       "3            Franklin St & Jackson Blvd   TA1305000025  41.886875 -87.626030   \n",
       "4              Loomis St & Jackson Blvd          13206  41.911722 -87.626804   \n",
       "\n",
       "     end_lat    end_lng user_type  trip_duration  day_of_week  \n",
       "0  41.889177 -87.638506    member            377            2  \n",
       "1  41.898203 -87.637536    member            378            4  \n",
       "2  41.984045 -87.660274    member            166            4  \n",
       "3  41.877708 -87.635321    member            588            3  \n",
       "4  41.877945 -87.662007    member           2530            2  "
      ]
     },
     "execution_count": 2,
     "metadata": {},
     "output_type": "execute_result"
    }
   ],
   "source": [
    "# Dropped columns not needed for analysis\n",
    "columns_to_drop = ['start_station_id', 'end_station_id', 'start_lat',\n",
    "                  'start_lng','end_lat', 'end_lng']\n",
    "cyclistic_df = cyclistic_df.drop(columns=columns_to_drop)\n",
    "cyclistic_df.head()"
   ]
  },
  {
   "cell_type": "code",
   "execution_count": 3,
   "id": "7f3ccca8",
   "metadata": {},
   "outputs": [],
   "source": []
  },
  {
   "cell_type": "code",
   "execution_count": 4,
   "id": "61abaa29",
   "metadata": {},
   "outputs": [],
   "source": [
    "# Removed other data frames\n",
    "\n",
    "del data1\n",
    "del data2 \n",
    "del data3 \n",
    "del data4 \n",
    "del data5\n",
    "del data6\n",
    "del data7\n",
    "del data8\n",
    "del data9\n",
    "del data10\n",
    "del data11\n",
    "del data12"
   ]
  },
  {
   "cell_type": "code",
   "execution_count": 5,
   "id": "738d4354",
   "metadata": {},
   "outputs": [
    {
     "data": {
      "text/html": [
       "<div>\n",
       "<style scoped>\n",
       "    .dataframe tbody tr th:only-of-type {\n",
       "        vertical-align: middle;\n",
       "    }\n",
       "\n",
       "    .dataframe tbody tr th {\n",
       "        vertical-align: top;\n",
       "    }\n",
       "\n",
       "    .dataframe thead th {\n",
       "        text-align: right;\n",
       "    }\n",
       "</style>\n",
       "<table border=\"1\" class=\"dataframe\">\n",
       "  <thead>\n",
       "    <tr style=\"text-align: right;\">\n",
       "      <th></th>\n",
       "      <th>trip_id</th>\n",
       "      <th>bike_type</th>\n",
       "      <th>started_at</th>\n",
       "      <th>ended_at</th>\n",
       "      <th>start_station_name</th>\n",
       "      <th>end_station_name</th>\n",
       "      <th>user_type</th>\n",
       "      <th>trip_duration</th>\n",
       "      <th>day_of_week</th>\n",
       "    </tr>\n",
       "  </thead>\n",
       "  <tbody>\n",
       "    <tr>\n",
       "      <th>2569</th>\n",
       "      <td>41557457145715FC</td>\n",
       "      <td>classic_bike</td>\n",
       "      <td>2022-03-01 00:00:19</td>\n",
       "      <td>2022-03-01 00:04:30</td>\n",
       "      <td>Wentworth Ave &amp; Cermak Rd</td>\n",
       "      <td>Normal Ave &amp; Archer Ave</td>\n",
       "      <td>member</td>\n",
       "      <td>251</td>\n",
       "      <td>3</td>\n",
       "    </tr>\n",
       "    <tr>\n",
       "      <th>41786</th>\n",
       "      <td>2CF34B94DEDAF6D1</td>\n",
       "      <td>electric_bike</td>\n",
       "      <td>2022-03-01 00:02:11</td>\n",
       "      <td>2022-03-01 00:08:49</td>\n",
       "      <td>State St &amp; Pearson St</td>\n",
       "      <td>Ogden Ave &amp; Chicago Ave</td>\n",
       "      <td>member</td>\n",
       "      <td>398</td>\n",
       "      <td>3</td>\n",
       "    </tr>\n",
       "    <tr>\n",
       "      <th>19389</th>\n",
       "      <td>ED3DD2C7341FAF6E</td>\n",
       "      <td>classic_bike</td>\n",
       "      <td>2022-03-01 00:03:24</td>\n",
       "      <td>2022-03-01 00:14:35</td>\n",
       "      <td>Leavitt St &amp; Addison St</td>\n",
       "      <td>Southport Ave &amp; Wellington Ave</td>\n",
       "      <td>casual</td>\n",
       "      <td>671</td>\n",
       "      <td>3</td>\n",
       "    </tr>\n",
       "    <tr>\n",
       "      <th>258749</th>\n",
       "      <td>A3B10F6CF7EF2F01</td>\n",
       "      <td>electric_bike</td>\n",
       "      <td>2022-03-01 00:03:53</td>\n",
       "      <td>2022-03-01 00:05:41</td>\n",
       "      <td>Washtenaw Ave &amp; Polk St</td>\n",
       "      <td>Racine Ave &amp; 35th St</td>\n",
       "      <td>member</td>\n",
       "      <td>108</td>\n",
       "      <td>3</td>\n",
       "    </tr>\n",
       "    <tr>\n",
       "      <th>197457</th>\n",
       "      <td>94FDE8513B6ECF91</td>\n",
       "      <td>classic_bike</td>\n",
       "      <td>2022-03-01 00:04:12</td>\n",
       "      <td>2022-03-01 00:17:22</td>\n",
       "      <td>Wells St &amp; Hubbard St</td>\n",
       "      <td>Clark St &amp; Lincoln Ave</td>\n",
       "      <td>member</td>\n",
       "      <td>790</td>\n",
       "      <td>3</td>\n",
       "    </tr>\n",
       "    <tr>\n",
       "      <th>...</th>\n",
       "      <td>...</td>\n",
       "      <td>...</td>\n",
       "      <td>...</td>\n",
       "      <td>...</td>\n",
       "      <td>...</td>\n",
       "      <td>...</td>\n",
       "      <td>...</td>\n",
       "      <td>...</td>\n",
       "      <td>...</td>\n",
       "    </tr>\n",
       "    <tr>\n",
       "      <th>44508</th>\n",
       "      <td>195FF0236E5CF306</td>\n",
       "      <td>classic_bike</td>\n",
       "      <td>2023-02-28 23:54:52</td>\n",
       "      <td>2023-02-28 23:56:44</td>\n",
       "      <td>McClurg Ct &amp; Erie St</td>\n",
       "      <td>New St &amp; Illinois St</td>\n",
       "      <td>member</td>\n",
       "      <td>112</td>\n",
       "      <td>3</td>\n",
       "    </tr>\n",
       "    <tr>\n",
       "      <th>158319</th>\n",
       "      <td>07A8F2B8F0883B3C</td>\n",
       "      <td>classic_bike</td>\n",
       "      <td>2023-02-28 23:56:08</td>\n",
       "      <td>2023-03-01 00:39:06</td>\n",
       "      <td>Daley Center Plaza</td>\n",
       "      <td>Shore Dr &amp; 55th St</td>\n",
       "      <td>member</td>\n",
       "      <td>2578</td>\n",
       "      <td>3</td>\n",
       "    </tr>\n",
       "    <tr>\n",
       "      <th>42227</th>\n",
       "      <td>7D66DFC5A554B002</td>\n",
       "      <td>electric_bike</td>\n",
       "      <td>2023-02-28 23:58:52</td>\n",
       "      <td>2023-03-01 00:13:41</td>\n",
       "      <td>Western Ave &amp; Fillmore St</td>\n",
       "      <td>Wood St &amp; Hubbard St</td>\n",
       "      <td>member</td>\n",
       "      <td>889</td>\n",
       "      <td>3</td>\n",
       "    </tr>\n",
       "    <tr>\n",
       "      <th>99255</th>\n",
       "      <td>D0A89191830FA3CC</td>\n",
       "      <td>electric_bike</td>\n",
       "      <td>2023-02-28 23:59:27</td>\n",
       "      <td>2023-03-01 00:33:24</td>\n",
       "      <td>Canal St &amp; Adams St</td>\n",
       "      <td>Clark St &amp; Randolph St</td>\n",
       "      <td>casual</td>\n",
       "      <td>2037</td>\n",
       "      <td>3</td>\n",
       "    </tr>\n",
       "    <tr>\n",
       "      <th>44949</th>\n",
       "      <td>2F1B6B0317FAFEF7</td>\n",
       "      <td>classic_bike</td>\n",
       "      <td>2023-02-28 23:59:31</td>\n",
       "      <td>2023-03-01 00:03:17</td>\n",
       "      <td>University Ave &amp; 57th St</td>\n",
       "      <td>Ellis Ave &amp; 60th St</td>\n",
       "      <td>member</td>\n",
       "      <td>226</td>\n",
       "      <td>3</td>\n",
       "    </tr>\n",
       "  </tbody>\n",
       "</table>\n",
       "<p>5776703 rows × 9 columns</p>\n",
       "</div>"
      ],
      "text/plain": [
       "                 trip_id      bike_type          started_at  \\\n",
       "2569    41557457145715FC   classic_bike 2022-03-01 00:00:19   \n",
       "41786   2CF34B94DEDAF6D1  electric_bike 2022-03-01 00:02:11   \n",
       "19389   ED3DD2C7341FAF6E   classic_bike 2022-03-01 00:03:24   \n",
       "258749  A3B10F6CF7EF2F01  electric_bike 2022-03-01 00:03:53   \n",
       "197457  94FDE8513B6ECF91   classic_bike 2022-03-01 00:04:12   \n",
       "...                  ...            ...                 ...   \n",
       "44508   195FF0236E5CF306   classic_bike 2023-02-28 23:54:52   \n",
       "158319  07A8F2B8F0883B3C   classic_bike 2023-02-28 23:56:08   \n",
       "42227   7D66DFC5A554B002  electric_bike 2023-02-28 23:58:52   \n",
       "99255   D0A89191830FA3CC  electric_bike 2023-02-28 23:59:27   \n",
       "44949   2F1B6B0317FAFEF7   classic_bike 2023-02-28 23:59:31   \n",
       "\n",
       "                  ended_at         start_station_name  \\\n",
       "2569   2022-03-01 00:04:30  Wentworth Ave & Cermak Rd   \n",
       "41786  2022-03-01 00:08:49      State St & Pearson St   \n",
       "19389  2022-03-01 00:14:35    Leavitt St & Addison St   \n",
       "258749 2022-03-01 00:05:41    Washtenaw Ave & Polk St   \n",
       "197457 2022-03-01 00:17:22      Wells St & Hubbard St   \n",
       "...                    ...                        ...   \n",
       "44508  2023-02-28 23:56:44       McClurg Ct & Erie St   \n",
       "158319 2023-03-01 00:39:06         Daley Center Plaza   \n",
       "42227  2023-03-01 00:13:41  Western Ave & Fillmore St   \n",
       "99255  2023-03-01 00:33:24        Canal St & Adams St   \n",
       "44949  2023-03-01 00:03:17   University Ave & 57th St   \n",
       "\n",
       "                      end_station_name user_type  trip_duration  day_of_week  \n",
       "2569           Normal Ave & Archer Ave    member            251            3  \n",
       "41786          Ogden Ave & Chicago Ave    member            398            3  \n",
       "19389   Southport Ave & Wellington Ave    casual            671            3  \n",
       "258749            Racine Ave & 35th St    member            108            3  \n",
       "197457          Clark St & Lincoln Ave    member            790            3  \n",
       "...                                ...       ...            ...          ...  \n",
       "44508             New St & Illinois St    member            112            3  \n",
       "158319              Shore Dr & 55th St    member           2578            3  \n",
       "42227             Wood St & Hubbard St    member            889            3  \n",
       "99255           Clark St & Randolph St    casual           2037            3  \n",
       "44949              Ellis Ave & 60th St    member            226            3  \n",
       "\n",
       "[5776703 rows x 9 columns]"
      ]
     },
     "execution_count": 5,
     "metadata": {},
     "output_type": "execute_result"
    }
   ],
   "source": [
    "# Sort data frame by dates\n",
    "\n",
    "cyclistic_df.loc[:, :].sort_values(by=['started_at', 'ended_at'])"
   ]
  },
  {
   "cell_type": "code",
   "execution_count": 6,
   "id": "855922bd",
   "metadata": {},
   "outputs": [
    {
     "name": "stdout",
     "output_type": "stream",
     "text": [
      "<class 'pandas.core.frame.DataFrame'>\n",
      "Int64Index: 5776703 entries, 0 to 188409\n",
      "Data columns (total 9 columns):\n",
      " #   Column              Dtype         \n",
      "---  ------              -----         \n",
      " 0   trip_id             object        \n",
      " 1   bike_type           object        \n",
      " 2   started_at          datetime64[ns]\n",
      " 3   ended_at            datetime64[ns]\n",
      " 4   start_station_name  object        \n",
      " 5   end_station_name    object        \n",
      " 6   user_type           object        \n",
      " 7   trip_duration       int64         \n",
      " 8   day_of_week         int64         \n",
      "dtypes: datetime64[ns](2), int64(2), object(5)\n",
      "memory usage: 440.7+ MB\n"
     ]
    }
   ],
   "source": [
    "cyclistic_df.info()"
   ]
  },
  {
   "cell_type": "code",
   "execution_count": 7,
   "id": "145156f1",
   "metadata": {},
   "outputs": [],
   "source": [
    "#Converted the day_of_week back column from float to integer8\n",
    "\n",
    "cyclistic_df['day_of_week'] = cyclistic_df['day_of_week'].astype(\"int8\")"
   ]
  },
  {
   "cell_type": "code",
   "execution_count": 8,
   "id": "44de0636",
   "metadata": {},
   "outputs": [
    {
     "data": {
      "text/html": [
       "<div>\n",
       "<style scoped>\n",
       "    .dataframe tbody tr th:only-of-type {\n",
       "        vertical-align: middle;\n",
       "    }\n",
       "\n",
       "    .dataframe tbody tr th {\n",
       "        vertical-align: top;\n",
       "    }\n",
       "\n",
       "    .dataframe thead th {\n",
       "        text-align: right;\n",
       "    }\n",
       "</style>\n",
       "<table border=\"1\" class=\"dataframe\">\n",
       "  <thead>\n",
       "    <tr style=\"text-align: right;\">\n",
       "      <th></th>\n",
       "      <th>trip_duration</th>\n",
       "      <th>day_of_week</th>\n",
       "    </tr>\n",
       "  </thead>\n",
       "  <tbody>\n",
       "    <tr>\n",
       "      <th>count</th>\n",
       "      <td>5.776703e+06</td>\n",
       "      <td>5.776703e+06</td>\n",
       "    </tr>\n",
       "    <tr>\n",
       "      <th>mean</th>\n",
       "      <td>1.150543e+03</td>\n",
       "      <td>4.091962e+00</td>\n",
       "    </tr>\n",
       "    <tr>\n",
       "      <th>std</th>\n",
       "      <td>1.050637e+04</td>\n",
       "      <td>2.012943e+00</td>\n",
       "    </tr>\n",
       "    <tr>\n",
       "      <th>min</th>\n",
       "      <td>1.000000e+00</td>\n",
       "      <td>1.000000e+00</td>\n",
       "    </tr>\n",
       "    <tr>\n",
       "      <th>25%</th>\n",
       "      <td>3.440000e+02</td>\n",
       "      <td>2.000000e+00</td>\n",
       "    </tr>\n",
       "    <tr>\n",
       "      <th>50%</th>\n",
       "      <td>6.090000e+02</td>\n",
       "      <td>4.000000e+00</td>\n",
       "    </tr>\n",
       "    <tr>\n",
       "      <th>75%</th>\n",
       "      <td>1.092000e+03</td>\n",
       "      <td>6.000000e+00</td>\n",
       "    </tr>\n",
       "    <tr>\n",
       "      <th>max</th>\n",
       "      <td>2.483235e+06</td>\n",
       "      <td>7.000000e+00</td>\n",
       "    </tr>\n",
       "  </tbody>\n",
       "</table>\n",
       "</div>"
      ],
      "text/plain": [
       "       trip_duration   day_of_week\n",
       "count   5.776703e+06  5.776703e+06\n",
       "mean    1.150543e+03  4.091962e+00\n",
       "std     1.050637e+04  2.012943e+00\n",
       "min     1.000000e+00  1.000000e+00\n",
       "25%     3.440000e+02  2.000000e+00\n",
       "50%     6.090000e+02  4.000000e+00\n",
       "75%     1.092000e+03  6.000000e+00\n",
       "max     2.483235e+06  7.000000e+00"
      ]
     },
     "execution_count": 8,
     "metadata": {},
     "output_type": "execute_result"
    }
   ],
   "source": [
    "# Performed descriptive analysis\n",
    "\n",
    "cyclistic_df.describe()"
   ]
  },
  {
   "cell_type": "markdown",
   "id": "911b8be1",
   "metadata": {},
   "source": [
    "Following the specific set objectives:\n",
    "1. Are there specific trends or patterns that distinguish the two user groups?\n",
    "2. How do casual riders and annual members differ in their usage patterns?\n",
    "\n",
    "Various metrics that could differentiate casual riders from members include; **Trip counts, Trip duration, Bike Use, Routes Use**."
   ]
  },
  {
   "cell_type": "markdown",
   "id": "fe4861d3",
   "metadata": {},
   "source": [
    "#### Trip count"
   ]
  },
  {
   "cell_type": "code",
   "execution_count": 9,
   "id": "55ac976b",
   "metadata": {},
   "outputs": [
    {
     "data": {
      "text/plain": [
       "5776703"
      ]
     },
     "execution_count": 9,
     "metadata": {},
     "output_type": "execute_result"
    }
   ],
   "source": [
    "# Total trip count\n",
    "\n",
    "total_trips = cyclistic_df['trip_id'].count()\n",
    "total_trips"
   ]
  },
  {
   "cell_type": "code",
   "execution_count": 10,
   "id": "375852cc",
   "metadata": {},
   "outputs": [
    {
     "name": "stdout",
     "output_type": "stream",
     "text": [
      "Total number of trips taken by casuals and members:\n",
      "user_type\n",
      "casual    2342493\n",
      "member    3434210\n",
      "Name: trip_id, dtype: int64\n"
     ]
    }
   ],
   "source": [
    "# Total trips by casuals and members\n",
    "\n",
    "total_users_trips = cyclistic_df.groupby('user_type')['trip_id'].count()\n",
    "\n",
    "print(\"Total number of trips taken by casuals and members:\")\n",
    "print(total_users_trips)"
   ]
  },
  {
   "cell_type": "code",
   "execution_count": 11,
   "id": "37c4bcf9",
   "metadata": {},
   "outputs": [
    {
     "data": {
      "text/plain": [
       "Text(0.5, 1.0, 'Distribution of trips taken by Cyclistic Bike Users')"
      ]
     },
     "execution_count": 11,
     "metadata": {},
     "output_type": "execute_result"
    },
    {
     "data": {
      "image/png": "[encoded data removed]",
      "text/plain": [
       "<Figure size 504x504 with 1 Axes>"
      ]
     },
     "metadata": {},
     "output_type": "display_data"
    }
   ],
   "source": [
    "# Visualized trips in a pie chart\n",
    "\n",
    "import matplotlib.pyplot as plt\n",
    "plt.close(\"all\")\n",
    "\n",
    "\n",
    "total_users_trips.plot.pie(\n",
    "    colors=[\"orange\", \"blue\"],\n",
    "    autopct=\"%1.2f%%\",\n",
    "    fontsize=20,\n",
    "    figsize=(7, 7),\n",
    ")\n",
    "plt.title('Distribution of trips taken by Cyclistic Bike Users')"
   ]
  },
  {
   "cell_type": "code",
   "execution_count": 12,
   "id": "dd342c3c",
   "metadata": {},
   "outputs": [
    {
     "name": "stdout",
     "output_type": "stream",
     "text": [
      "Number of trips taken each day of the week are:\n",
      "user_type    casual  member\n",
      "day_of_week                \n",
      "Sunday       394942  399586\n",
      "Monday       280349  484207\n",
      "Tuesday      269559  541974\n",
      "Wednesday    277181  537521\n",
      "Thursday     310501  542583\n",
      "Friday       335461  477058\n",
      "Saturday     474500  451281\n"
     ]
    }
   ],
   "source": [
    "# Calculated the number of trips taken by casual and member users each day of the week in a pivot table\n",
    "\n",
    "pivot_table_trips = pd.pivot_table(cyclistic_df, index='day_of_week', columns='user_type', values='trip_id', aggfunc='count')\n",
    "\n",
    "weekday_names = {\n",
    "    1: 'Sunday',\n",
    "    2: 'Monday',\n",
    "    3: 'Tuesday',\n",
    "    4: 'Wednesday',\n",
    "    5: 'Thursday',\n",
    "    6: 'Friday',\n",
    "    7: 'Saturday'\n",
    "}\n",
    "\n",
    "pivot_table_trips.index = pivot_table_trips.index.map(weekday_names)\n",
    "\n",
    "print(\"Number of trips taken each day of the week are:\")\n",
    "print(pivot_table_trips)"
   ]
  },
  {
   "cell_type": "code",
   "execution_count": 13,
   "id": "c5f810a9",
   "metadata": {},
   "outputs": [
    {
     "data": {
      "text/plain": [
       "Text(0, 0.5, 'Number of Trips')"
      ]
     },
     "execution_count": 13,
     "metadata": {},
     "output_type": "execute_result"
    },
    {
     "data": {
      "image/png": "[encoded data removed]",
      "text/plain": [
       "<Figure size 432x288 with 1 Axes>"
      ]
     },
     "metadata": {
      "needs_background": "light"
     },
     "output_type": "display_data"
    }
   ],
   "source": [
    "# Visualize the number of trips taken by casual and member users each day of the week in a bar chart\n",
    "\n",
    "pivot_table_trips.plot.bar(rot=90, color=[\"orange\", \"blue\"])\n",
    "plt.title(\"Number of trips taken each day\")\n",
    "plt.xlabel(\"Days of the week\")\n",
    "plt.ylabel(\"Number of Trips\")"
   ]
  },
  {
   "cell_type": "markdown",
   "id": "40be9775",
   "metadata": {},
   "source": [
    "#### Trip duration"
   ]
  },
  {
   "cell_type": "code",
   "execution_count": 14,
   "id": "eb896ff1",
   "metadata": {},
   "outputs": [
    {
     "name": "stdout",
     "output_type": "stream",
     "text": [
      "The average Trip duration for Casual riders = 28.88 minutes\n",
      "The average Trip duration for Members = 12.56 minutes\n"
     ]
    }
   ],
   "source": [
    "# Calculated the average trip duration for casuals and members\n",
    "\n",
    "average_trip_duration = (cyclistic_df.groupby('user_type')['trip_duration'].mean() / 60).round(2)\n",
    "\n",
    "print(\"The average Trip duration for Casual riders =\", average_trip_duration['casual'], \"minutes\")\n",
    "print(\"The average Trip duration for Members =\", average_trip_duration['member'], \"minutes\")"
   ]
  },
  {
   "cell_type": "code",
   "execution_count": 15,
   "id": "8ba84cfc",
   "metadata": {},
   "outputs": [
    {
     "name": "stdout",
     "output_type": "stream",
     "text": [
      "Average trip duration (in minutes) each day of the week between Casuals and Members are:\n",
      "user_type    casual  member\n",
      "day_of_week                \n",
      "Sunday        33.86   13.90\n",
      "Monday        28.80   12.13\n",
      "Tuesday       25.48   11.92\n",
      "Wednesday     24.42   11.97\n",
      "Thursday      25.25   12.14\n",
      "Friday        27.74   12.38\n",
      "Saturday      32.47   14.01\n"
     ]
    }
   ],
   "source": [
    "# Calculated the average trip duration each day of the week for casuals and members in a pivot table\n",
    "\n",
    "pivot_table_trip_avg = pd.pivot_table(cyclistic_df, index='day_of_week', columns='user_type', values='trip_duration', \n",
    "                                      aggfunc='mean') / 60\n",
    "pivot_table_trip_avg = pivot_table_trip_avg.round(2)\n",
    "\n",
    "weekday_names = {\n",
    "    1: 'Sunday',\n",
    "    2: 'Monday',\n",
    "    3: 'Tuesday',\n",
    "    4: 'Wednesday',\n",
    "    5: 'Thursday',\n",
    "    6: 'Friday',\n",
    "    7: 'Saturday'\n",
    "}\n",
    "\n",
    "pivot_table_trip_avg.index = pivot_table_trip_avg.index.map(weekday_names)\n",
    "\n",
    "print(\"Average trip duration (in minutes) each day of the week between Casuals and Members are:\")\n",
    "print(pivot_table_trip_avg)"
   ]
  },
  {
   "cell_type": "code",
   "execution_count": 16,
   "id": "1727fcb3",
   "metadata": {},
   "outputs": [
    {
     "data": {
      "text/plain": [
       "<matplotlib.legend.Legend at 0x1f6e34edbe0>"
      ]
     },
     "execution_count": 16,
     "metadata": {},
     "output_type": "execute_result"
    },
    {
     "data": {
      "image/png": "[encoded data removed]",
      "text/plain": [
       "<Figure size 432x288 with 1 Axes>"
      ]
     },
     "metadata": {
      "needs_background": "light"
     },
     "output_type": "display_data"
    }
   ],
   "source": [
    "# Visualized the average trip duration each day of the week for casual riders and annual members in a bar chart\n",
    "\n",
    "pivot_table_trip_avg.plot.bar(color=[\"orange\", \"blue\"])\n",
    "plt.xlabel('Days of the week')\n",
    "plt.ylabel('Average Trip duration')\n",
    "plt.title('Average Trip duration each week day for Casuals and Members')\n",
    "plt.legend(title='User Type')"
   ]
  },
  {
   "cell_type": "code",
   "execution_count": 17,
   "id": "038a4837",
   "metadata": {},
   "outputs": [
    {
     "data": {
      "text/plain": [
       "<matplotlib.legend.Legend at 0x1f6decb4160>"
      ]
     },
     "execution_count": 17,
     "metadata": {},
     "output_type": "execute_result"
    },
    {
     "data": {
      "image/png": "[encoded data removed]",
      "text/plain": [
       "<Figure size 432x288 with 1 Axes>"
      ]
     },
     "metadata": {
      "needs_background": "light"
     },
     "output_type": "display_data"
    }
   ],
   "source": [
    "# Visualized the average trip duration each day of the week for casual riders and annual members in a line chart\n",
    "\n",
    "pivot_table_trip_avg.plot.line(marker='o', color=[\"orange\", \"blue\"])\n",
    "plt.xlabel('Days of the week')\n",
    "plt.ylabel('Average Trip duration')\n",
    "plt.title('Average Trip duration each week day for Casuals and Members')\n",
    "plt.legend(title='User Type')"
   ]
  },
  {
   "cell_type": "markdown",
   "id": "e2a3e5af",
   "metadata": {},
   "source": [
    "#### Bike use"
   ]
  },
  {
   "cell_type": "code",
   "execution_count": 18,
   "id": "703b0a56",
   "metadata": {},
   "outputs": [
    {
     "data": {
      "text/plain": [
       "user_type  bike_type    \n",
       "casual     electric_bike    1266320\n",
       "           classic_bike      898697\n",
       "           docked_bike       177476\n",
       "member     classic_bike     1748037\n",
       "           electric_bike    1686173\n",
       "Name: bike_type, dtype: int64"
      ]
     },
     "execution_count": 18,
     "metadata": {},
     "output_type": "execute_result"
    }
   ],
   "source": [
    "# Counted the number of bike types for casuals and members\n",
    "\n",
    "bike_type_counts = cyclistic_df.groupby('user_type')['bike_type'].value_counts()\n",
    "bike_type_counts"
   ]
  },
  {
   "cell_type": "code",
   "execution_count": 19,
   "id": "dc2eae61",
   "metadata": {},
   "outputs": [
    {
     "name": "stdout",
     "output_type": "stream",
     "text": [
      "Number of bike types for Casuals and Members:\n",
      "user_type         casual     member\n",
      "bike_type                          \n",
      "classic_bike    898697.0  1748037.0\n",
      "docked_bike     177476.0        NaN\n",
      "electric_bike  1266320.0  1686173.0\n"
     ]
    }
   ],
   "source": [
    "# Calculated the number of bike types used by casuals and members in a pivot table\n",
    "\n",
    "pivot_table_bike = pd.pivot_table(cyclistic_df, index='bike_type', columns='user_type', values='trip_id', aggfunc='count')\n",
    "\n",
    "print(\"Number of bike types for Casuals and Members:\")\n",
    "print(pivot_table_bike)"
   ]
  },
  {
   "cell_type": "code",
   "execution_count": 20,
   "id": "b0b0308c",
   "metadata": {},
   "outputs": [
    {
     "data": {
      "text/plain": [
       "<matplotlib.legend.Legend at 0x1f6d2c743a0>"
      ]
     },
     "execution_count": 20,
     "metadata": {},
     "output_type": "execute_result"
    },
    {
     "data": {
      "image/png": "[encoded data removed]",
      "text/plain": [
       "<Figure size 432x288 with 1 Axes>"
      ]
     },
     "metadata": {
      "needs_background": "light"
     },
     "output_type": "display_data"
    }
   ],
   "source": [
    "# Bike types visualization in a bar chart \n",
    "\n",
    "pivot_table_bike.plot.bar(rot=0, color=[\"orange\", \"blue\"])\n",
    "plt.xlabel('Bike Type')\n",
    "plt.ylabel('Number of bikes')\n",
    "plt.title('Distribution of Bike Types between Casuals and Members')\n",
    "plt.legend(title='User Type')"
   ]
  },
  {
   "cell_type": "markdown",
   "id": "fcf6a75e",
   "metadata": {},
   "source": [
    "#### Routes use"
   ]
  },
  {
   "cell_type": "code",
   "execution_count": 21,
   "id": "6af05d45",
   "metadata": {},
   "outputs": [],
   "source": [
    "# Created a route variable\n",
    "cyclistic_df['route'] = cyclistic_df['start_station_name'] + ' to ' + cyclistic_df['end_station_name']"
   ]
  },
  {
   "cell_type": "code",
   "execution_count": 22,
   "id": "6dd75e20",
   "metadata": {},
   "outputs": [
    {
     "name": "stdout",
     "output_type": "stream",
     "text": [
      "Most Frequently Used / Popular Routes by Casual Riders:\n",
      "route\n",
      "Streeter Dr & Grand Ave to Streeter Dr & Grand Ave                        12030\n",
      "DuSable Lake Shore Dr & Monroe St to DuSable Lake Shore Dr & Monroe St     7274\n",
      "DuSable Lake Shore Dr & Monroe St to Streeter Dr & Grand Ave               5765\n",
      "Michigan Ave & Oak St to Michigan Ave & Oak St                             4747\n",
      "Millennium Park to Millennium Park                                         4464\n",
      "dtype: int64\n",
      "\n",
      "Most Frequently Used / Popular Routes by Annual Members:\n",
      "route\n",
      "University Ave & 57th St to Kimbark Ave & 53rd St    10624\n",
      "University Ave & 57th St to Ellis Ave & 60th St       9028\n",
      "Ellis Ave & 60th St to Ellis Ave & 55th St            8125\n",
      "Ellis Ave & 60th St to University Ave & 57th St       7804\n",
      "Ellis Ave & 55th St to Ellis Ave & 60th St            5857\n",
      "dtype: int64\n"
     ]
    }
   ],
   "source": [
    "# Identified popular routes taken by casuals and members\n",
    "\n",
    "pop_route_counts = cyclistic_df.groupby(['user_type', 'route']).size()\n",
    "\n",
    "pop_casual_routes = pop_route_counts['casual'].nlargest(5)\n",
    "pop_member_routes = pop_route_counts['member'].nlargest(5)\n",
    "\n",
    "print(\"Most Frequently Used / Popular Routes by Casual Riders:\")\n",
    "print(pop_casual_routes)\n",
    "print(\"\\nMost Frequently Used / Popular Routes by Annual Members:\")\n",
    "print(pop_member_routes)\n",
    "\n",
    "## NOTE THE COMMON ROUTES BETWEEN THE TWO"
   ]
  },
  {
   "cell_type": "markdown",
   "id": "3ee0da8b",
   "metadata": {},
   "source": [
    "## Created by"
   ]
  },
  {
   "cell_type": "markdown",
   "id": "fa63f4f1",
   "metadata": {},
   "source": [
    "Tobi Ibidapo-Obe"
   ]
  },
  {
   "cell_type": "markdown",
   "id": "fd3c9c5c",
   "metadata": {},
   "source": [
    "## Change Log"
   ]
  },
  {
   "cell_type": "markdown",
   "id": "96b315fb",
   "metadata": {},
   "source": [
    "| Date (DD-MM-YYYY) | Version |        Name       |      Change Description                |\n",
    "| ----------------- | ------- | ----------------- | -------------------------------------- |\n",
    "| 20-03-2023        | 0.1     | Tobi Ibidapo-Obe  | Created initial version of the notebook|"
   ]
  }
 ],
 "metadata": {
  "kernelspec": {
   "display_name": "Python 3",
   "language": "python",
   "name": "python3"
  },
  "language_info": {
   "codemirror_mode": {
    "name": "ipython",
    "version": 3
   },
   "file_extension": ".py",
   "mimetype": "text/x-python",
   "name": "python",
   "nbconvert_exporter": "python",
   "pygments_lexer": "ipython3",
   "version": "3.8.8"
  }
 },
 "nbformat": 4,
 "nbformat_minor": 5
}
