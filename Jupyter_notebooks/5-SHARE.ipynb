{
 "cells": [
  {
   "cell_type": "markdown",
   "id": "ee629396",
   "metadata": {},
   "source": [
    "# SHARE"
   ]
  },
  {
   "cell_type": "markdown",
   "id": "68e62bc4",
   "metadata": {},
   "source": [
    "**NB**: This document only highlights text values of findings. Visualizations are in the dashboard and slide presentation"
   ]
  },
  {
   "cell_type": "markdown",
   "id": "7cfa86eb",
   "metadata": {},
   "source": [
    "### Findings"
   ]
  },
  {
   "cell_type": "markdown",
   "id": "6901eaf3",
   "metadata": {},
   "source": [
    "Findings based on the metrics; **Trip counts, Trip duration, Bike Use, Routes Use** are highlighted below."
   ]
  },
  {
   "cell_type": "markdown",
   "id": "eb58d0a8",
   "metadata": {},
   "source": [
    "#### Trip count"
   ]
  },
  {
   "cell_type": "markdown",
   "id": "0347e02b",
   "metadata": {},
   "source": [
    "1.\tTrip count: Between March 2022 and February 2023, there were a total of 5,776,703 trips. Out of these trips, casual riders accounted for 2,342,493 trips (40.55%), while members had 3,434,210 trips (59.45%). This indicates that members take a higher proportion of trips compared to casual riders. \n",
    "2.\tTrips by day of the week: In analyzing the number of trips taken each day of the week, data showed that casual riders had lower trips than members, consistent with total trip counts"
   ]
  },
  {
   "cell_type": "markdown",
   "id": "a246637c",
   "metadata": {},
   "source": [
    "#### Trip duration"
   ]
  },
  {
   "cell_type": "markdown",
   "id": "b25fd025",
   "metadata": {},
   "source": [
    "1.\tAverage trip duration: The average trip duration for Casual riders was 28.88 minutes and 12.56 minutes for Members. Trip duration for Casual riders was more than twice higher than Members. This indicates that casual riders generally have longer trips compared to annual members.\n",
    "2.\tAverage trip duration by day of the week: Analyzing the average trip duration for casual and member users each day of the week showed similar result to the total average trip duration. Trip duration for Casual riders was more than twice higher than Members through each day of the week."
   ]
  },
  {
   "cell_type": "markdown",
   "id": "94148286",
   "metadata": {},
   "source": [
    "#### Bike Use"
   ]
  },
  {
   "cell_type": "markdown",
   "id": "3397a56d",
   "metadata": {},
   "source": [
    "Data showed that docked bikes are not used by members."
   ]
  },
  {
   "cell_type": "markdown",
   "id": "a6c1bf04",
   "metadata": {},
   "source": [
    "#### Routes Use"
   ]
  },
  {
   "cell_type": "markdown",
   "id": "c5556528",
   "metadata": {},
   "source": [
    "Findings highlight the routes preferred by casual riders are different from the routes of members."
   ]
  },
  {
   "cell_type": "markdown",
   "id": "59f903b4",
   "metadata": {},
   "source": [
    "In summary, the analysis highlights several key insights regarding the distinction between casual riders and annual members"
   ]
  }
 ],
 "metadata": {
  "kernelspec": {
   "display_name": "Python 3",
   "language": "python",
   "name": "python3"
  },
  "language_info": {
   "codemirror_mode": {
    "name": "ipython",
    "version": 3
   },
   "file_extension": ".py",
   "mimetype": "text/x-python",
   "name": "python",
   "nbconvert_exporter": "python",
   "pygments_lexer": "ipython3",
   "version": "3.8.8"
  }
 },
 "nbformat": 4,
 "nbformat_minor": 5
}
