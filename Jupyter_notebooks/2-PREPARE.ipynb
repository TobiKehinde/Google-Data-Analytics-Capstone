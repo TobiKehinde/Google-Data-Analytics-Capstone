{
 "cells": [
  {
   "cell_type": "markdown",
   "id": "e1e7da49",
   "metadata": {},
   "source": [
    "# PREPARE"
   ]
  },
  {
   "cell_type": "markdown",
   "id": "04f76d61",
   "metadata": {},
   "source": [
    "### Data Source: \n",
    "Historical bike trip data arranged in monthly datasets\n",
    "The raw datasets can be found at: (https://divvy-tripdata.s3.amazonaws.com/index.html)."
   ]
  },
  {
   "cell_type": "markdown",
   "id": "5ee4e57b",
   "metadata": {},
   "source": [
    "### Data Organization: \n",
    "Datasets available online are organized in monthly compressed files, while older datasets are organized as quarterly compressed files. \n",
    "The datasets (202203-divvy-tripdata.zip to 202302-divvy-tripdata.zip) were retrieved as csv files organized monthly over recent last 12 months and saved in a folder named raw_data within a main folder called cyclistic_case_study. \n",
    "After opening the compressed folders, I renamed 202209-divvy-publictripdata.csv file to 202209-divvy-tripdata.csv \n",
    "in maintaining consistent file naming convention. \n",
    "I then opened each dataset in Microsoft Excel, sorted the values by 'Oldest to Newest' on the 'started_at' column.\n",
    "I created a cleaned_data folder to save each cleaned data file as an Excel file."
   ]
  },
  {
   "cell_type": "markdown",
   "id": "9e843e4c",
   "metadata": {},
   "source": [
    "### Data Credibility: \n",
    "For the purposes of this case study, the datasets were appropriate and effective to answer the business question."
   ]
  }
 ],
 "metadata": {
  "kernelspec": {
   "display_name": "Python 3",
   "language": "python",
   "name": "python3"
  },
  "language_info": {
   "codemirror_mode": {
    "name": "ipython",
    "version": 3
   },
   "file_extension": ".py",
   "mimetype": "text/x-python",
   "name": "python",
   "nbconvert_exporter": "python",
   "pygments_lexer": "ipython3",
   "version": "3.8.8"
  }
 },
 "nbformat": 4,
 "nbformat_minor": 5
}
