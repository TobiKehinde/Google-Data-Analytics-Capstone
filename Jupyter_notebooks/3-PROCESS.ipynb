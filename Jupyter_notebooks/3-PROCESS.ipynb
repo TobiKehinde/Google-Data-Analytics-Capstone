{
 "cells": [
  {
   "cell_type": "markdown",
   "id": "451046e5",
   "metadata": {},
   "source": [
    "# PROCESS"
   ]
  },
  {
   "cell_type": "markdown",
   "id": "bf291175",
   "metadata": {},
   "source": [
    "## Tools used:\n",
    "\n",
    "#### Microsoft Excel: \n",
    "Used to open each data file, performed consistent variable formatting of columns, some data exploration, created and calculated values for two new columns (ride_length and day_of_week) and saved data files from csv to excel format in the raw_data folder.\n",
    "Specific task done in Excel include;\n",
    "1. Creation of “ride_length.” Calculated the length of each ride by subtracting the column “started_at” from the column “ended_at” (for example, =D2-C2) and formatted as HH:MM:SS using Format > Cells > Time > 37:30:55.\n",
    "2. Created a column called “day_of_week,” and calculated the day of the week that each ride started using the “WEEKDAY” command (=WEEKDAY(C2,1)) in each file. Formatted as a number with no decimals, noting that 1 = Sunday and 7 = Saturday.\n",
    "\n",
    "#### Jupyter Notebook: \n",
    "Performed data exploration, data cleaning and validation. This was also used in merging monthly dataset files into single one-year data frame record and performed further analysis.\n",
    "\n",
    "#### Power BI: \n",
    "To produce effective data visualizations.\n",
    "\n",
    "#### Google slides: \n",
    "Used to effectively present findings and recommendations."
   ]
  },
  {
   "cell_type": "markdown",
   "id": "f314241c",
   "metadata": {},
   "source": [
    "## Data Integrity:\n",
    "In ensuring data integrity for accuracy, consistency, and reliability of data, the following measures were taken;\n",
    "1. Data exploration\n",
    "2. Data cleaning\n",
    "3. Data validation"
   ]
  },
  {
   "cell_type": "code",
   "execution_count": 1,
   "id": "8242c5eb",
   "metadata": {},
   "outputs": [
    {
     "data": {
      "text/html": [
       "<div>\n",
       "<style scoped>\n",
       "    .dataframe tbody tr th:only-of-type {\n",
       "        vertical-align: middle;\n",
       "    }\n",
       "\n",
       "    .dataframe tbody tr th {\n",
       "        vertical-align: top;\n",
       "    }\n",
       "\n",
       "    .dataframe thead th {\n",
       "        text-align: right;\n",
       "    }\n",
       "</style>\n",
       "<table border=\"1\" class=\"dataframe\">\n",
       "  <thead>\n",
       "    <tr style=\"text-align: right;\">\n",
       "      <th></th>\n",
       "      <th>ride_id</th>\n",
       "      <th>rideable_type</th>\n",
       "      <th>started_at</th>\n",
       "      <th>ended_at</th>\n",
       "      <th>start_station_name</th>\n",
       "      <th>start_station_id</th>\n",
       "      <th>end_station_name</th>\n",
       "      <th>end_station_id</th>\n",
       "      <th>start_lat</th>\n",
       "      <th>start_lng</th>\n",
       "      <th>end_lat</th>\n",
       "      <th>end_lng</th>\n",
       "      <th>member_casual</th>\n",
       "      <th>ride_length</th>\n",
       "      <th>day_of_week</th>\n",
       "    </tr>\n",
       "  </thead>\n",
       "  <tbody>\n",
       "    <tr>\n",
       "      <th>0</th>\n",
       "      <td>CBCD0D7777F0E45F</td>\n",
       "      <td>classic_bike</td>\n",
       "      <td>2023-02-14 11:59:42</td>\n",
       "      <td>2023-02-14 12:13:38</td>\n",
       "      <td>Southport Ave &amp; Clybourn Ave</td>\n",
       "      <td>TA1309000030</td>\n",
       "      <td>Clark St &amp; Schiller St</td>\n",
       "      <td>TA1309000024</td>\n",
       "      <td>41.920771</td>\n",
       "      <td>-87.663712</td>\n",
       "      <td>41.907993</td>\n",
       "      <td>-87.631501</td>\n",
       "      <td>casual</td>\n",
       "      <td>836.0</td>\n",
       "      <td>3</td>\n",
       "    </tr>\n",
       "    <tr>\n",
       "      <th>1</th>\n",
       "      <td>F3EC5FCE5FF39DE9</td>\n",
       "      <td>electric_bike</td>\n",
       "      <td>2023-02-15 13:53:48</td>\n",
       "      <td>2023-02-15 13:59:08</td>\n",
       "      <td>Clarendon Ave &amp; Gordon Ter</td>\n",
       "      <td>13379</td>\n",
       "      <td>Sheridan Rd &amp; Lawrence Ave</td>\n",
       "      <td>TA1309000041</td>\n",
       "      <td>41.957879</td>\n",
       "      <td>-87.649584</td>\n",
       "      <td>41.969517</td>\n",
       "      <td>-87.654691</td>\n",
       "      <td>casual</td>\n",
       "      <td>320.0</td>\n",
       "      <td>4</td>\n",
       "    </tr>\n",
       "    <tr>\n",
       "      <th>2</th>\n",
       "      <td>E54C1F27FA9354FF</td>\n",
       "      <td>classic_bike</td>\n",
       "      <td>2023-02-19 11:10:57</td>\n",
       "      <td>2023-02-19 11:35:01</td>\n",
       "      <td>Southport Ave &amp; Clybourn Ave</td>\n",
       "      <td>TA1309000030</td>\n",
       "      <td>Aberdeen St &amp; Monroe St</td>\n",
       "      <td>13156</td>\n",
       "      <td>41.920771</td>\n",
       "      <td>-87.663712</td>\n",
       "      <td>41.880419</td>\n",
       "      <td>-87.655519</td>\n",
       "      <td>member</td>\n",
       "      <td>1444.0</td>\n",
       "      <td>1</td>\n",
       "    </tr>\n",
       "    <tr>\n",
       "      <th>3</th>\n",
       "      <td>3D561E04F739CC45</td>\n",
       "      <td>electric_bike</td>\n",
       "      <td>2023-02-26 16:12:05</td>\n",
       "      <td>2023-02-26 16:39:55</td>\n",
       "      <td>Southport Ave &amp; Clybourn Ave</td>\n",
       "      <td>TA1309000030</td>\n",
       "      <td>Franklin St &amp; Adams St (Temp)</td>\n",
       "      <td>TA1309000008</td>\n",
       "      <td>41.920873</td>\n",
       "      <td>-87.663733</td>\n",
       "      <td>41.879434</td>\n",
       "      <td>-87.635504</td>\n",
       "      <td>member</td>\n",
       "      <td>1670.0</td>\n",
       "      <td>1</td>\n",
       "    </tr>\n",
       "    <tr>\n",
       "      <th>4</th>\n",
       "      <td>0CB4B4D53B2DBE05</td>\n",
       "      <td>electric_bike</td>\n",
       "      <td>2023-02-20 11:55:23</td>\n",
       "      <td>2023-02-20 12:05:48</td>\n",
       "      <td>Prairie Ave &amp; Garfield Blvd</td>\n",
       "      <td>TA1307000160</td>\n",
       "      <td>Cottage Grove Ave &amp; 63rd St</td>\n",
       "      <td>KA1503000054</td>\n",
       "      <td>41.794827</td>\n",
       "      <td>-87.618795</td>\n",
       "      <td>41.780531</td>\n",
       "      <td>-87.605970</td>\n",
       "      <td>member</td>\n",
       "      <td>625.0</td>\n",
       "      <td>2</td>\n",
       "    </tr>\n",
       "  </tbody>\n",
       "</table>\n",
       "</div>"
      ],
      "text/plain": [
       "            ride_id  rideable_type          started_at            ended_at  \\\n",
       "0  CBCD0D7777F0E45F   classic_bike 2023-02-14 11:59:42 2023-02-14 12:13:38   \n",
       "1  F3EC5FCE5FF39DE9  electric_bike 2023-02-15 13:53:48 2023-02-15 13:59:08   \n",
       "2  E54C1F27FA9354FF   classic_bike 2023-02-19 11:10:57 2023-02-19 11:35:01   \n",
       "3  3D561E04F739CC45  electric_bike 2023-02-26 16:12:05 2023-02-26 16:39:55   \n",
       "4  0CB4B4D53B2DBE05  electric_bike 2023-02-20 11:55:23 2023-02-20 12:05:48   \n",
       "\n",
       "             start_station_name start_station_id  \\\n",
       "0  Southport Ave & Clybourn Ave     TA1309000030   \n",
       "1    Clarendon Ave & Gordon Ter            13379   \n",
       "2  Southport Ave & Clybourn Ave     TA1309000030   \n",
       "3  Southport Ave & Clybourn Ave     TA1309000030   \n",
       "4   Prairie Ave & Garfield Blvd     TA1307000160   \n",
       "\n",
       "                end_station_name end_station_id  start_lat  start_lng  \\\n",
       "0         Clark St & Schiller St   TA1309000024  41.920771 -87.663712   \n",
       "1     Sheridan Rd & Lawrence Ave   TA1309000041  41.957879 -87.649584   \n",
       "2        Aberdeen St & Monroe St          13156  41.920771 -87.663712   \n",
       "3  Franklin St & Adams St (Temp)   TA1309000008  41.920873 -87.663733   \n",
       "4    Cottage Grove Ave & 63rd St   KA1503000054  41.794827 -87.618795   \n",
       "\n",
       "     end_lat    end_lng member_casual  ride_length  day_of_week  \n",
       "0  41.907993 -87.631501        casual        836.0            3  \n",
       "1  41.969517 -87.654691        casual        320.0            4  \n",
       "2  41.880419 -87.655519        member       1444.0            1  \n",
       "3  41.879434 -87.635504        member       1670.0            1  \n",
       "4  41.780531 -87.605970        member        625.0            2  "
      ]
     },
     "execution_count": 1,
     "metadata": {},
     "output_type": "execute_result"
    }
   ],
   "source": [
    "# Selected each file one-bit a time for processing\n",
    "import pandas as pd\n",
    "\n",
    "#cyclistic_df = pd.read_excel('raw_data/202203-divvy-tripdata.xlsx')\n",
    "#cyclistic_df = pd.read_excel('raw_data/202204-divvy-tripdata.xlsx')\n",
    "#cyclistic_df = pd.read_excel('raw_data/202205-divvy-tripdata.xlsx')\n",
    "#cyclistic_df = pd.read_excel('raw_data/202206-divvy-tripdata.xlsx')\n",
    "#cyclistic_df = pd.read_excel('raw_data/202207-divvy-tripdata.xlsx')\n",
    "#cyclistic_df = pd.read_excel('raw_data/202208-divvy-tripdata.xlsx')\n",
    "#cyclistic_df = pd.read_excel('raw_data/202209-divvy-tripdata.xlsx')\n",
    "#cyclistic_df = pd.read_excel('raw_data/202210-divvy-tripdata.xlsx')\n",
    "#cyclistic_df = pd.read_excel('raw_data/202211-divvy-tripdata.xlsx')\n",
    "#cyclistic_df = pd.read_excel('raw_data/202212-divvy-tripdata.xlsx')\n",
    "#cyclistic_df = pd.read_excel('raw_data/202301-divvy-tripdata.xlsx')\n",
    "cyclistic_df = pd.read_excel('raw_data/202302-divvy-tripdata.xlsx')\n",
    "cyclistic_df.head()"
   ]
  },
  {
   "cell_type": "markdown",
   "id": "f0df71a3",
   "metadata": {},
   "source": [
    "### Data exploration\n",
    "I explored the each data file to know more detail about each data file in the following steps;\n",
    "\n",
    "1. I examined details of each data file using the pandas info and describe functions.\n",
    "2. I checked each data frame for duplicates.\n",
    "3. I checked each data frame for missing values.\n",
    "4. I validated the data to ensure proper analysis that inform data-driven decision and saved into the cleaned_data folder"
   ]
  },
  {
   "cell_type": "code",
   "execution_count": 2,
   "id": "65f0f2b4",
   "metadata": {},
   "outputs": [
    {
     "name": "stdout",
     "output_type": "stream",
     "text": [
      "<class 'pandas.core.frame.DataFrame'>\n",
      "RangeIndex: 190445 entries, 0 to 190444\n",
      "Data columns (total 15 columns):\n",
      " #   Column              Non-Null Count   Dtype         \n",
      "---  ------              --------------   -----         \n",
      " 0   ride_id             190445 non-null  object        \n",
      " 1   rideable_type       190445 non-null  object        \n",
      " 2   started_at          190445 non-null  datetime64[ns]\n",
      " 3   ended_at            190445 non-null  datetime64[ns]\n",
      " 4   start_station_name  164972 non-null  object        \n",
      " 5   start_station_id    164840 non-null  object        \n",
      " 6   end_station_name    163707 non-null  object        \n",
      " 7   end_station_id      163566 non-null  object        \n",
      " 8   start_lat           190445 non-null  float64       \n",
      " 9   start_lng           190445 non-null  float64       \n",
      " 10  end_lat             190329 non-null  float64       \n",
      " 11  end_lng             190329 non-null  float64       \n",
      " 12  member_casual       190445 non-null  object        \n",
      " 13  ride_length         190444 non-null  float64       \n",
      " 14  day_of_week         190445 non-null  int64         \n",
      "dtypes: datetime64[ns](2), float64(5), int64(1), object(7)\n",
      "memory usage: 21.8+ MB\n"
     ]
    }
   ],
   "source": [
    "# Briefly viewed the data structure\n",
    "\n",
    "cyclistic_df.info()"
   ]
  },
  {
   "cell_type": "code",
   "execution_count": 3,
   "id": "fec532ae",
   "metadata": {},
   "outputs": [
    {
     "data": {
      "text/html": [
       "<div>\n",
       "<style scoped>\n",
       "    .dataframe tbody tr th:only-of-type {\n",
       "        vertical-align: middle;\n",
       "    }\n",
       "\n",
       "    .dataframe tbody tr th {\n",
       "        vertical-align: top;\n",
       "    }\n",
       "\n",
       "    .dataframe thead th {\n",
       "        text-align: right;\n",
       "    }\n",
       "</style>\n",
       "<table border=\"1\" class=\"dataframe\">\n",
       "  <thead>\n",
       "    <tr style=\"text-align: right;\">\n",
       "      <th></th>\n",
       "      <th>start_lat</th>\n",
       "      <th>start_lng</th>\n",
       "      <th>end_lat</th>\n",
       "      <th>end_lng</th>\n",
       "      <th>ride_length</th>\n",
       "      <th>day_of_week</th>\n",
       "    </tr>\n",
       "  </thead>\n",
       "  <tbody>\n",
       "    <tr>\n",
       "      <th>count</th>\n",
       "      <td>190445.000000</td>\n",
       "      <td>190445.000000</td>\n",
       "      <td>190329.000000</td>\n",
       "      <td>190329.000000</td>\n",
       "      <td>190444.000000</td>\n",
       "      <td>190445.000000</td>\n",
       "    </tr>\n",
       "    <tr>\n",
       "      <th>mean</th>\n",
       "      <td>41.898063</td>\n",
       "      <td>-87.647773</td>\n",
       "      <td>41.898346</td>\n",
       "      <td>-87.647909</td>\n",
       "      <td>711.707394</td>\n",
       "      <td>3.732789</td>\n",
       "    </tr>\n",
       "    <tr>\n",
       "      <th>std</th>\n",
       "      <td>0.048295</td>\n",
       "      <td>0.028430</td>\n",
       "      <td>0.048403</td>\n",
       "      <td>0.028470</td>\n",
       "      <td>1839.661015</td>\n",
       "      <td>1.979037</td>\n",
       "    </tr>\n",
       "    <tr>\n",
       "      <th>min</th>\n",
       "      <td>41.648501</td>\n",
       "      <td>-87.840000</td>\n",
       "      <td>41.648501</td>\n",
       "      <td>-87.900000</td>\n",
       "      <td>0.000000</td>\n",
       "      <td>1.000000</td>\n",
       "    </tr>\n",
       "    <tr>\n",
       "      <th>25%</th>\n",
       "      <td>41.878317</td>\n",
       "      <td>-87.661364</td>\n",
       "      <td>41.878317</td>\n",
       "      <td>-87.661535</td>\n",
       "      <td>264.000000</td>\n",
       "      <td>2.000000</td>\n",
       "    </tr>\n",
       "    <tr>\n",
       "      <th>50%</th>\n",
       "      <td>41.894722</td>\n",
       "      <td>-87.644140</td>\n",
       "      <td>41.894722</td>\n",
       "      <td>-87.644336</td>\n",
       "      <td>445.000000</td>\n",
       "      <td>3.000000</td>\n",
       "    </tr>\n",
       "    <tr>\n",
       "      <th>75%</th>\n",
       "      <td>41.926756</td>\n",
       "      <td>-87.630000</td>\n",
       "      <td>41.928773</td>\n",
       "      <td>-87.630000</td>\n",
       "      <td>773.000000</td>\n",
       "      <td>5.000000</td>\n",
       "    </tr>\n",
       "    <tr>\n",
       "      <th>max</th>\n",
       "      <td>42.070000</td>\n",
       "      <td>-87.528411</td>\n",
       "      <td>42.070000</td>\n",
       "      <td>-87.528232</td>\n",
       "      <td>86287.000000</td>\n",
       "      <td>7.000000</td>\n",
       "    </tr>\n",
       "  </tbody>\n",
       "</table>\n",
       "</div>"
      ],
      "text/plain": [
       "           start_lat      start_lng        end_lat        end_lng  \\\n",
       "count  190445.000000  190445.000000  190329.000000  190329.000000   \n",
       "mean       41.898063     -87.647773      41.898346     -87.647909   \n",
       "std         0.048295       0.028430       0.048403       0.028470   \n",
       "min        41.648501     -87.840000      41.648501     -87.900000   \n",
       "25%        41.878317     -87.661364      41.878317     -87.661535   \n",
       "50%        41.894722     -87.644140      41.894722     -87.644336   \n",
       "75%        41.926756     -87.630000      41.928773     -87.630000   \n",
       "max        42.070000     -87.528411      42.070000     -87.528232   \n",
       "\n",
       "         ride_length    day_of_week  \n",
       "count  190444.000000  190445.000000  \n",
       "mean      711.707394       3.732789  \n",
       "std      1839.661015       1.979037  \n",
       "min         0.000000       1.000000  \n",
       "25%       264.000000       2.000000  \n",
       "50%       445.000000       3.000000  \n",
       "75%       773.000000       5.000000  \n",
       "max     86287.000000       7.000000  "
      ]
     },
     "execution_count": 3,
     "metadata": {},
     "output_type": "execute_result"
    }
   ],
   "source": [
    "# Calculated summary statistics\n",
    "\n",
    "cyclistic_df.describe()"
   ]
  },
  {
   "cell_type": "code",
   "execution_count": 4,
   "id": "34aa9b43",
   "metadata": {},
   "outputs": [
    {
     "data": {
      "text/plain": [
       "0"
      ]
     },
     "execution_count": 4,
     "metadata": {},
     "output_type": "execute_result"
    }
   ],
   "source": [
    "# Checked for duplicate values\n",
    "\n",
    "cyclistic_df.duplicated().sum()"
   ]
  },
  {
   "cell_type": "code",
   "execution_count": 5,
   "id": "12bcd652",
   "metadata": {},
   "outputs": [
    {
     "data": {
      "text/plain": [
       "ride_id                   0\n",
       "rideable_type             0\n",
       "started_at                0\n",
       "ended_at                  0\n",
       "start_station_name    25473\n",
       "start_station_id      25605\n",
       "end_station_name      26738\n",
       "end_station_id        26879\n",
       "start_lat                 0\n",
       "start_lng                 0\n",
       "end_lat                 116\n",
       "end_lng                 116\n",
       "member_casual             0\n",
       "ride_length               1\n",
       "day_of_week               0\n",
       "dtype: int64"
      ]
     },
     "execution_count": 5,
     "metadata": {},
     "output_type": "execute_result"
    }
   ],
   "source": [
    "# Checked for missing values\n",
    "\n",
    "cyclistic_df.isna().sum()"
   ]
  },
  {
   "cell_type": "code",
   "execution_count": 6,
   "id": "a24d6dba",
   "metadata": {},
   "outputs": [
    {
     "data": {
      "text/plain": [
       "member    147429\n",
       "casual     43016\n",
       "Name: member_casual, dtype: int64"
      ]
     },
     "execution_count": 6,
     "metadata": {},
     "output_type": "execute_result"
    }
   ],
   "source": [
    "# Counted Casual and member trips\n",
    "\n",
    "cyclistic_df['member_casual'].value_counts()"
   ]
  },
  {
   "cell_type": "markdown",
   "id": "aae0240e",
   "metadata": {},
   "source": [
    "### Data cleaning "
   ]
  },
  {
   "cell_type": "markdown",
   "id": "4353575e",
   "metadata": {},
   "source": [
    "I Performed thorough data cleaning in the following steps;\n",
    "1. I renamed columns into conventionally meaningful names\n",
    "2. I handled missing values;\n",
    "The station names, station IDs, lat and lng provide spatial information and missing values in any of the columns can be corrected with values from corresponding columns. I used KDTree from the scipy.spatial package to correct the missing value pairs.\n",
    "The start_lat and start_lng had complete values and served as reference query points.\n",
    "The most recent csv file however did not have missing values pair for station names and IDs, so I filled consistent station_id rows having missing values with the words “Unknown ID”.\n",
    "For rows with missing trip_duration values, I discovered the end dates were earlier than the start dates and made the assumption of error in data entry. I interchanged the started_at and ended_at dates for rows with missing trip_duration and recalculated the trip duration in the trip_duration column.\n",
    "\n",
    "I used this documentation guide in handling unpaired missing values for station IDs; https://pandas.pydata.org/docs/user_guide/missing_data.html\n",
    "\n",
    "Thanks to this thread on stackoverflow in handling missing trip_duration values; https://stackoverflow.com/questions/56421753/swap-column-values-based-on-a-condition-in-pandas"
   ]
  },
  {
   "cell_type": "code",
   "execution_count": 7,
   "id": "b8aa63d6",
   "metadata": {},
   "outputs": [
    {
     "data": {
      "text/plain": [
       "Index(['trip_id', 'bike_type', 'started_at', 'ended_at', 'start_station_name',\n",
       "       'start_station_id', 'end_station_name', 'end_station_id', 'start_lat',\n",
       "       'start_lng', 'end_lat', 'end_lng', 'user_type', 'trip_duration',\n",
       "       'day_of_week'],\n",
       "      dtype='object')"
      ]
     },
     "execution_count": 7,
     "metadata": {},
     "output_type": "execute_result"
    }
   ],
   "source": [
    "# Changed column names\n",
    "\n",
    "cyclistic_df = cyclistic_df.rename(columns={'ride_id': 'trip_id', 'rideable_type': 'bike_type', \n",
    "                                            'member_casual': 'user_type', 'ride_length': 'trip_duration'})\n",
    "cyclistic_df.columns"
   ]
  },
  {
   "cell_type": "code",
   "execution_count": 8,
   "id": "1474e05f",
   "metadata": {},
   "outputs": [],
   "source": [
    "# Used KDTree from the scipy.spatial package to make assumptions based on nearest neighbour for the missing value pairs\n",
    "\n",
    "from scipy.spatial import KDTree"
   ]
  },
  {
   "cell_type": "code",
   "execution_count": 9,
   "id": "cca25d6b",
   "metadata": {},
   "outputs": [],
   "source": [
    "# Handled variables with missing value pairs by using a data frame with no missing value\n",
    "\n",
    "complete_data = cyclistic_df.dropna(subset=['start_station_name', 'start_station_id', 'end_station_name', \n",
    "                                            'end_station_id', 'end_lat', 'end_lng'])\n",
    "coordinates = complete_data[['start_lat', 'start_lng']].values\n",
    "\n",
    "start_names = complete_data['start_station_name'].values\n",
    "start_ids = complete_data['start_station_id'].values\n",
    "\n",
    "end_names = complete_data['end_station_name'].values\n",
    "end_ids = complete_data['end_station_id'].values\n",
    "\n",
    "end_lat = complete_data['end_lat'].values\n",
    "end_lng = complete_data['end_lng'].values"
   ]
  },
  {
   "cell_type": "code",
   "execution_count": 10,
   "id": "3bd09903",
   "metadata": {},
   "outputs": [],
   "source": [
    "# Created a KDTree index based on the coordinates of the complete stations\n",
    "\n",
    "kdtree = KDTree(coordinates)"
   ]
  },
  {
   "cell_type": "code",
   "execution_count": 11,
   "id": "4c4adaae",
   "metadata": {},
   "outputs": [],
   "source": [
    "# Handled the missing value pairs for start_station_name and start_station_id\n",
    "\n",
    "for i, row in cyclistic_df[cyclistic_df['start_station_name'].isna()].iterrows():\n",
    "    query_point = row[['start_lat', 'start_lng']]\n",
    "    distances, indices = kdtree.query(query_point, k=1)\n",
    "    nearest_start_name = start_names[indices]\n",
    "    nearest_start_id = start_ids[indices]\n",
    "    \n",
    "# Assigned the nearest neighbor values to the missing station\n",
    "    cyclistic_df.at[i, 'start_station_name'] = nearest_start_name\n",
    "    cyclistic_df.at[i, 'start_station_id'] = nearest_start_id"
   ]
  },
  {
   "cell_type": "code",
   "execution_count": 12,
   "id": "04b9372b",
   "metadata": {},
   "outputs": [
    {
     "data": {
      "text/plain": [
       "start_station_name      0\n",
       "start_station_id      132\n",
       "dtype: int64"
      ]
     },
     "execution_count": 12,
     "metadata": {},
     "output_type": "execute_result"
    }
   ],
   "source": [
    "# Checked if any missing start_station_name and start_station_id value pair remained\n",
    "\n",
    "missing_values = cyclistic_df.isna().sum()\n",
    "missing_values[['start_station_name', 'start_station_id']]"
   ]
  },
  {
   "cell_type": "code",
   "execution_count": 13,
   "id": "e11f7efa",
   "metadata": {},
   "outputs": [
    {
     "data": {
      "text/html": [
       "<div>\n",
       "<style scoped>\n",
       "    .dataframe tbody tr th:only-of-type {\n",
       "        vertical-align: middle;\n",
       "    }\n",
       "\n",
       "    .dataframe tbody tr th {\n",
       "        vertical-align: top;\n",
       "    }\n",
       "\n",
       "    .dataframe thead th {\n",
       "        text-align: right;\n",
       "    }\n",
       "</style>\n",
       "<table border=\"1\" class=\"dataframe\">\n",
       "  <thead>\n",
       "    <tr style=\"text-align: right;\">\n",
       "      <th></th>\n",
       "      <th>trip_id</th>\n",
       "      <th>bike_type</th>\n",
       "      <th>started_at</th>\n",
       "      <th>ended_at</th>\n",
       "      <th>start_station_name</th>\n",
       "      <th>start_station_id</th>\n",
       "      <th>end_station_name</th>\n",
       "      <th>end_station_id</th>\n",
       "      <th>start_lat</th>\n",
       "      <th>start_lng</th>\n",
       "      <th>end_lat</th>\n",
       "      <th>end_lng</th>\n",
       "      <th>user_type</th>\n",
       "      <th>trip_duration</th>\n",
       "      <th>day_of_week</th>\n",
       "    </tr>\n",
       "  </thead>\n",
       "  <tbody>\n",
       "    <tr>\n",
       "      <th>6023</th>\n",
       "      <td>12B626EE44C701B7</td>\n",
       "      <td>electric_bike</td>\n",
       "      <td>2023-02-19 09:09:47</td>\n",
       "      <td>2023-02-19 09:19:46</td>\n",
       "      <td>Stony Island Ave &amp; 63rd St</td>\n",
       "      <td>NaN</td>\n",
       "      <td>Wentworth Ave &amp; 63rd St</td>\n",
       "      <td>KA1503000025</td>\n",
       "      <td>41.78</td>\n",
       "      <td>-87.59</td>\n",
       "      <td>41.780080</td>\n",
       "      <td>-87.629746</td>\n",
       "      <td>casual</td>\n",
       "      <td>599.0</td>\n",
       "      <td>1</td>\n",
       "    </tr>\n",
       "    <tr>\n",
       "      <th>15418</th>\n",
       "      <td>8DF6FDC34FAB9ECD</td>\n",
       "      <td>electric_bike</td>\n",
       "      <td>2023-02-23 12:37:03</td>\n",
       "      <td>2023-02-23 12:41:07</td>\n",
       "      <td>Stony Island Ave &amp; 63rd St</td>\n",
       "      <td>NaN</td>\n",
       "      <td>Ellis Ave &amp; 60th St</td>\n",
       "      <td>KA1503000014</td>\n",
       "      <td>41.78</td>\n",
       "      <td>-87.59</td>\n",
       "      <td>41.785097</td>\n",
       "      <td>-87.601073</td>\n",
       "      <td>member</td>\n",
       "      <td>244.0</td>\n",
       "      <td>5</td>\n",
       "    </tr>\n",
       "    <tr>\n",
       "      <th>15455</th>\n",
       "      <td>BCD8E5A0777F90E2</td>\n",
       "      <td>classic_bike</td>\n",
       "      <td>2023-02-18 15:17:18</td>\n",
       "      <td>2023-02-18 15:26:13</td>\n",
       "      <td>Stony Island Ave &amp; 63rd St</td>\n",
       "      <td>NaN</td>\n",
       "      <td>Ellis Ave &amp; 60th St</td>\n",
       "      <td>KA1503000014</td>\n",
       "      <td>41.78</td>\n",
       "      <td>-87.59</td>\n",
       "      <td>41.785097</td>\n",
       "      <td>-87.601073</td>\n",
       "      <td>member</td>\n",
       "      <td>535.0</td>\n",
       "      <td>7</td>\n",
       "    </tr>\n",
       "    <tr>\n",
       "      <th>18701</th>\n",
       "      <td>4CB608D352762008</td>\n",
       "      <td>electric_bike</td>\n",
       "      <td>2023-02-25 13:39:03</td>\n",
       "      <td>2023-02-25 13:40:25</td>\n",
       "      <td>Stony Island Ave &amp; 63rd St</td>\n",
       "      <td>NaN</td>\n",
       "      <td>Public Rack - Harper Ave &amp; 63rd St</td>\n",
       "      <td>750</td>\n",
       "      <td>41.78</td>\n",
       "      <td>-87.59</td>\n",
       "      <td>41.780000</td>\n",
       "      <td>-87.590000</td>\n",
       "      <td>casual</td>\n",
       "      <td>82.0</td>\n",
       "      <td>7</td>\n",
       "    </tr>\n",
       "    <tr>\n",
       "      <th>40038</th>\n",
       "      <td>0589BB0878015DC2</td>\n",
       "      <td>electric_bike</td>\n",
       "      <td>2023-02-20 19:29:51</td>\n",
       "      <td>2023-02-20 19:44:01</td>\n",
       "      <td>Stony Island Ave &amp; 63rd St</td>\n",
       "      <td>NaN</td>\n",
       "      <td>NaN</td>\n",
       "      <td>NaN</td>\n",
       "      <td>41.78</td>\n",
       "      <td>-87.59</td>\n",
       "      <td>41.760000</td>\n",
       "      <td>-87.570000</td>\n",
       "      <td>casual</td>\n",
       "      <td>850.0</td>\n",
       "      <td>2</td>\n",
       "    </tr>\n",
       "    <tr>\n",
       "      <th>...</th>\n",
       "      <td>...</td>\n",
       "      <td>...</td>\n",
       "      <td>...</td>\n",
       "      <td>...</td>\n",
       "      <td>...</td>\n",
       "      <td>...</td>\n",
       "      <td>...</td>\n",
       "      <td>...</td>\n",
       "      <td>...</td>\n",
       "      <td>...</td>\n",
       "      <td>...</td>\n",
       "      <td>...</td>\n",
       "      <td>...</td>\n",
       "      <td>...</td>\n",
       "      <td>...</td>\n",
       "    </tr>\n",
       "    <tr>\n",
       "      <th>182338</th>\n",
       "      <td>51EAE519300A9E30</td>\n",
       "      <td>classic_bike</td>\n",
       "      <td>2023-02-14 15:22:46</td>\n",
       "      <td>2023-02-14 15:25:59</td>\n",
       "      <td>Elizabeth St &amp; Randolph St</td>\n",
       "      <td>NaN</td>\n",
       "      <td>Sangamon St &amp; Lake St</td>\n",
       "      <td>TA1306000015</td>\n",
       "      <td>41.88</td>\n",
       "      <td>-87.66</td>\n",
       "      <td>41.885779</td>\n",
       "      <td>-87.651025</td>\n",
       "      <td>member</td>\n",
       "      <td>193.0</td>\n",
       "      <td>3</td>\n",
       "    </tr>\n",
       "    <tr>\n",
       "      <th>185860</th>\n",
       "      <td>1B58D8CAFAC7DAC9</td>\n",
       "      <td>classic_bike</td>\n",
       "      <td>2023-02-15 17:52:22</td>\n",
       "      <td>2023-02-15 18:06:28</td>\n",
       "      <td>Elizabeth St &amp; Randolph St</td>\n",
       "      <td>NaN</td>\n",
       "      <td>Columbus Dr &amp; Randolph St</td>\n",
       "      <td>13263</td>\n",
       "      <td>41.88</td>\n",
       "      <td>-87.66</td>\n",
       "      <td>41.884728</td>\n",
       "      <td>-87.619521</td>\n",
       "      <td>member</td>\n",
       "      <td>846.0</td>\n",
       "      <td>4</td>\n",
       "    </tr>\n",
       "    <tr>\n",
       "      <th>185872</th>\n",
       "      <td>3A5C1EF6F69B680D</td>\n",
       "      <td>electric_bike</td>\n",
       "      <td>2023-02-24 12:11:06</td>\n",
       "      <td>2023-02-24 12:17:17</td>\n",
       "      <td>Elizabeth St &amp; Randolph St</td>\n",
       "      <td>NaN</td>\n",
       "      <td>Paulina St &amp; Flournoy St</td>\n",
       "      <td>KA1504000104</td>\n",
       "      <td>41.88</td>\n",
       "      <td>-87.66</td>\n",
       "      <td>41.873061</td>\n",
       "      <td>-87.669135</td>\n",
       "      <td>member</td>\n",
       "      <td>371.0</td>\n",
       "      <td>6</td>\n",
       "    </tr>\n",
       "    <tr>\n",
       "      <th>189446</th>\n",
       "      <td>7D4A141FBDB8B05B</td>\n",
       "      <td>classic_bike</td>\n",
       "      <td>2023-02-28 10:07:32</td>\n",
       "      <td>2023-02-28 10:20:26</td>\n",
       "      <td>Elizabeth St &amp; Randolph St</td>\n",
       "      <td>NaN</td>\n",
       "      <td>Dearborn St &amp; Monroe St</td>\n",
       "      <td>TA1305000006</td>\n",
       "      <td>41.88</td>\n",
       "      <td>-87.66</td>\n",
       "      <td>41.881320</td>\n",
       "      <td>-87.629521</td>\n",
       "      <td>member</td>\n",
       "      <td>774.0</td>\n",
       "      <td>3</td>\n",
       "    </tr>\n",
       "    <tr>\n",
       "      <th>189461</th>\n",
       "      <td>CB29BC7690EAA996</td>\n",
       "      <td>classic_bike</td>\n",
       "      <td>2023-02-17 13:59:12</td>\n",
       "      <td>2023-02-17 14:38:49</td>\n",
       "      <td>Elizabeth St &amp; Randolph St</td>\n",
       "      <td>NaN</td>\n",
       "      <td>Michigan Ave &amp; Washington St</td>\n",
       "      <td>13001</td>\n",
       "      <td>41.88</td>\n",
       "      <td>-87.66</td>\n",
       "      <td>41.883984</td>\n",
       "      <td>-87.624684</td>\n",
       "      <td>casual</td>\n",
       "      <td>2377.0</td>\n",
       "      <td>6</td>\n",
       "    </tr>\n",
       "  </tbody>\n",
       "</table>\n",
       "<p>132 rows × 15 columns</p>\n",
       "</div>"
      ],
      "text/plain": [
       "                 trip_id      bike_type          started_at  \\\n",
       "6023    12B626EE44C701B7  electric_bike 2023-02-19 09:09:47   \n",
       "15418   8DF6FDC34FAB9ECD  electric_bike 2023-02-23 12:37:03   \n",
       "15455   BCD8E5A0777F90E2   classic_bike 2023-02-18 15:17:18   \n",
       "18701   4CB608D352762008  electric_bike 2023-02-25 13:39:03   \n",
       "40038   0589BB0878015DC2  electric_bike 2023-02-20 19:29:51   \n",
       "...                  ...            ...                 ...   \n",
       "182338  51EAE519300A9E30   classic_bike 2023-02-14 15:22:46   \n",
       "185860  1B58D8CAFAC7DAC9   classic_bike 2023-02-15 17:52:22   \n",
       "185872  3A5C1EF6F69B680D  electric_bike 2023-02-24 12:11:06   \n",
       "189446  7D4A141FBDB8B05B   classic_bike 2023-02-28 10:07:32   \n",
       "189461  CB29BC7690EAA996   classic_bike 2023-02-17 13:59:12   \n",
       "\n",
       "                  ended_at          start_station_name start_station_id  \\\n",
       "6023   2023-02-19 09:19:46  Stony Island Ave & 63rd St              NaN   \n",
       "15418  2023-02-23 12:41:07  Stony Island Ave & 63rd St              NaN   \n",
       "15455  2023-02-18 15:26:13  Stony Island Ave & 63rd St              NaN   \n",
       "18701  2023-02-25 13:40:25  Stony Island Ave & 63rd St              NaN   \n",
       "40038  2023-02-20 19:44:01  Stony Island Ave & 63rd St              NaN   \n",
       "...                    ...                         ...              ...   \n",
       "182338 2023-02-14 15:25:59  Elizabeth St & Randolph St              NaN   \n",
       "185860 2023-02-15 18:06:28  Elizabeth St & Randolph St              NaN   \n",
       "185872 2023-02-24 12:17:17  Elizabeth St & Randolph St              NaN   \n",
       "189446 2023-02-28 10:20:26  Elizabeth St & Randolph St              NaN   \n",
       "189461 2023-02-17 14:38:49  Elizabeth St & Randolph St              NaN   \n",
       "\n",
       "                          end_station_name end_station_id  start_lat  \\\n",
       "6023               Wentworth Ave & 63rd St   KA1503000025      41.78   \n",
       "15418                  Ellis Ave & 60th St   KA1503000014      41.78   \n",
       "15455                  Ellis Ave & 60th St   KA1503000014      41.78   \n",
       "18701   Public Rack - Harper Ave & 63rd St            750      41.78   \n",
       "40038                                  NaN            NaN      41.78   \n",
       "...                                    ...            ...        ...   \n",
       "182338               Sangamon St & Lake St   TA1306000015      41.88   \n",
       "185860           Columbus Dr & Randolph St          13263      41.88   \n",
       "185872            Paulina St & Flournoy St   KA1504000104      41.88   \n",
       "189446             Dearborn St & Monroe St   TA1305000006      41.88   \n",
       "189461        Michigan Ave & Washington St          13001      41.88   \n",
       "\n",
       "        start_lng    end_lat    end_lng user_type  trip_duration  day_of_week  \n",
       "6023       -87.59  41.780080 -87.629746    casual          599.0            1  \n",
       "15418      -87.59  41.785097 -87.601073    member          244.0            5  \n",
       "15455      -87.59  41.785097 -87.601073    member          535.0            7  \n",
       "18701      -87.59  41.780000 -87.590000    casual           82.0            7  \n",
       "40038      -87.59  41.760000 -87.570000    casual          850.0            2  \n",
       "...           ...        ...        ...       ...            ...          ...  \n",
       "182338     -87.66  41.885779 -87.651025    member          193.0            3  \n",
       "185860     -87.66  41.884728 -87.619521    member          846.0            4  \n",
       "185872     -87.66  41.873061 -87.669135    member          371.0            6  \n",
       "189446     -87.66  41.881320 -87.629521    member          774.0            3  \n",
       "189461     -87.66  41.883984 -87.624684    casual         2377.0            6  \n",
       "\n",
       "[132 rows x 15 columns]"
      ]
     },
     "execution_count": 13,
     "metadata": {},
     "output_type": "execute_result"
    }
   ],
   "source": [
    "# Handled missing start_station_id as seen in the 202302-divvy-tripdata.xlsx data file\n",
    "\n",
    "empty_start_id = cyclistic_df[cyclistic_df['start_station_id'].isna()]\n",
    "empty_start_id"
   ]
  },
  {
   "cell_type": "code",
   "execution_count": 14,
   "id": "e6b9cbeb",
   "metadata": {},
   "outputs": [
    {
     "data": {
      "text/plain": [
       "array(['Stony Island Ave & 63rd St', 'Elizabeth St & Randolph St'],\n",
       "      dtype=object)"
      ]
     },
     "execution_count": 14,
     "metadata": {},
     "output_type": "execute_result"
    }
   ],
   "source": [
    "# Get unique values for the start_station_names having empty start_station_id\n",
    "\n",
    "unique_start_station = empty_start_id['start_station_name'].unique()\n",
    "unique_start_station"
   ]
  },
  {
   "cell_type": "code",
   "execution_count": 15,
   "id": "f38acd37",
   "metadata": {},
   "outputs": [
    {
     "data": {
      "text/plain": [
       "0    KA1503000071\n",
       "dtype: object"
      ]
     },
     "execution_count": 15,
     "metadata": {},
     "output_type": "execute_result"
    }
   ],
   "source": [
    "# Checked the mode of the start_station_id\n",
    "\n",
    "cyclistic_df['start_station_id'].mode()"
   ]
  },
  {
   "cell_type": "code",
   "execution_count": 16,
   "id": "9f75f260",
   "metadata": {},
   "outputs": [],
   "source": [
    "# Filled missing start_station_id with 'Unknown ID' rather than mode of the station_id to avoid bias\n",
    "\n",
    "cyclistic_df[\"start_station_id\"].fillna('Unknown ID', inplace=True)"
   ]
  },
  {
   "cell_type": "code",
   "execution_count": 17,
   "id": "a318a248",
   "metadata": {},
   "outputs": [
    {
     "data": {
      "text/plain": [
       "start_station_name    0\n",
       "start_station_id      0\n",
       "dtype: int64"
      ]
     },
     "execution_count": 17,
     "metadata": {},
     "output_type": "execute_result"
    }
   ],
   "source": [
    "# Checked if any missing start_station_name and start_station_id value remain\n",
    "\n",
    "missing_values = cyclistic_df.isna().sum()\n",
    "missing_values[['start_station_name', 'start_station_id']]"
   ]
  },
  {
   "cell_type": "code",
   "execution_count": 19,
   "id": "032519cd",
   "metadata": {},
   "outputs": [],
   "source": [
    "# Handled the missing value pairs for end_station_name and end_station_id\n",
    "\n",
    "for i, row in cyclistic_df[cyclistic_df['end_station_name'].isna()].iterrows():\n",
    "    query_point = row[['start_lat', 'start_lng']]\n",
    "    distances, indices = kdtree.query(query_point, k=1)\n",
    "    nearest_end_name = end_names[indices]\n",
    "    nearest_end_id = end_ids[indices]\n",
    "    \n",
    "# Assigned the nearest neighbor values to the missing station\n",
    "    cyclistic_df.at[i, 'end_station_name'] = nearest_end_name\n",
    "    cyclistic_df.at[i, 'end_station_id'] = nearest_end_id"
   ]
  },
  {
   "cell_type": "code",
   "execution_count": 20,
   "id": "1dd7e5f6",
   "metadata": {},
   "outputs": [
    {
     "data": {
      "text/plain": [
       "end_station_name      0\n",
       "end_station_id      141\n",
       "dtype: int64"
      ]
     },
     "execution_count": 20,
     "metadata": {},
     "output_type": "execute_result"
    }
   ],
   "source": [
    "# Checked if any missing values remained\n",
    "\n",
    "missing_values = cyclistic_df.isna().sum()\n",
    "missing_values[['end_station_name', 'end_station_id']]"
   ]
  },
  {
   "cell_type": "code",
   "execution_count": 21,
   "id": "0d9c3595",
   "metadata": {},
   "outputs": [],
   "source": [
    "# Hadled missing value for end_station_id as seen in the 202302-divvy-tripdata.xlsx data file\n",
    "\n",
    "cyclistic_df[\"end_station_id\"].fillna('Unknown ID', inplace=True)"
   ]
  },
  {
   "cell_type": "code",
   "execution_count": 22,
   "id": "9eebd3a5",
   "metadata": {},
   "outputs": [
    {
     "data": {
      "text/plain": [
       "end_station_name    0\n",
       "end_station_id      0\n",
       "dtype: int64"
      ]
     },
     "execution_count": 22,
     "metadata": {},
     "output_type": "execute_result"
    }
   ],
   "source": [
    "# Checked if any missing end_station_name and end_station_id value remained\n",
    "\n",
    "missing_values = cyclistic_df.isna().sum()\n",
    "missing_values[['end_station_name', 'end_station_id']]"
   ]
  },
  {
   "cell_type": "code",
   "execution_count": 23,
   "id": "d09aa3a8",
   "metadata": {},
   "outputs": [],
   "source": [
    "# Handled the missing value pairs for end_lat and end_lng\n",
    "\n",
    "for i, row in cyclistic_df[cyclistic_df['end_lat'].isna()].iterrows():\n",
    "    query_point = row[['start_lat', 'start_lng']]\n",
    "    distances, indices = kdtree.query(query_point, k=1)\n",
    "    nearest_end_lat = end_lat[indices]\n",
    "    nearest_end_lng = end_lng[indices]\n",
    "    \n",
    "# Assigned the nearest neighbor values to the missing station\n",
    "    cyclistic_df.at[i, 'end_lat'] = nearest_end_lat\n",
    "    cyclistic_df.at[i, 'end_lng'] = nearest_end_lng"
   ]
  },
  {
   "cell_type": "code",
   "execution_count": 24,
   "id": "1e71840d",
   "metadata": {},
   "outputs": [
    {
     "data": {
      "text/plain": [
       "end_lat    0\n",
       "end_lng    0\n",
       "dtype: int64"
      ]
     },
     "execution_count": 24,
     "metadata": {},
     "output_type": "execute_result"
    }
   ],
   "source": [
    "# Checked if any missing values remained\n",
    "\n",
    "missing_values = cyclistic_df.isna().sum()\n",
    "missing_values[['end_lat', 'end_lng']]"
   ]
  },
  {
   "cell_type": "code",
   "execution_count": 25,
   "id": "ef50b865",
   "metadata": {},
   "outputs": [
    {
     "data": {
      "text/plain": [
       "trip_id               0\n",
       "bike_type             0\n",
       "started_at            0\n",
       "ended_at              0\n",
       "start_station_name    0\n",
       "start_station_id      0\n",
       "end_station_name      0\n",
       "end_station_id        0\n",
       "start_lat             0\n",
       "start_lng             0\n",
       "end_lat               0\n",
       "end_lng               0\n",
       "user_type             0\n",
       "trip_duration         1\n",
       "day_of_week           0\n",
       "dtype: int64"
      ]
     },
     "execution_count": 25,
     "metadata": {},
     "output_type": "execute_result"
    }
   ],
   "source": [
    "# Checked for other missing values\n",
    "\n",
    "cyclistic_df.isna().sum()"
   ]
  },
  {
   "cell_type": "code",
   "execution_count": 26,
   "id": "0c6f1239",
   "metadata": {},
   "outputs": [
    {
     "data": {
      "text/html": [
       "<div>\n",
       "<style scoped>\n",
       "    .dataframe tbody tr th:only-of-type {\n",
       "        vertical-align: middle;\n",
       "    }\n",
       "\n",
       "    .dataframe tbody tr th {\n",
       "        vertical-align: top;\n",
       "    }\n",
       "\n",
       "    .dataframe thead th {\n",
       "        text-align: right;\n",
       "    }\n",
       "</style>\n",
       "<table border=\"1\" class=\"dataframe\">\n",
       "  <thead>\n",
       "    <tr style=\"text-align: right;\">\n",
       "      <th></th>\n",
       "      <th>trip_id</th>\n",
       "      <th>bike_type</th>\n",
       "      <th>started_at</th>\n",
       "      <th>ended_at</th>\n",
       "      <th>start_station_name</th>\n",
       "      <th>start_station_id</th>\n",
       "      <th>end_station_name</th>\n",
       "      <th>end_station_id</th>\n",
       "      <th>start_lat</th>\n",
       "      <th>start_lng</th>\n",
       "      <th>end_lat</th>\n",
       "      <th>end_lng</th>\n",
       "      <th>user_type</th>\n",
       "      <th>trip_duration</th>\n",
       "      <th>day_of_week</th>\n",
       "    </tr>\n",
       "  </thead>\n",
       "  <tbody>\n",
       "    <tr>\n",
       "      <th>189347</th>\n",
       "      <td>4EFC95304E050AA1</td>\n",
       "      <td>electric_bike</td>\n",
       "      <td>2023-02-04 13:08:08</td>\n",
       "      <td>2023-02-04 13:04:52</td>\n",
       "      <td>Dearborn St &amp; Adams St</td>\n",
       "      <td>TA1305000005</td>\n",
       "      <td>Dearborn St &amp; Monroe St</td>\n",
       "      <td>TA1305000006</td>\n",
       "      <td>41.88</td>\n",
       "      <td>-87.63</td>\n",
       "      <td>41.88132</td>\n",
       "      <td>-87.629521</td>\n",
       "      <td>member</td>\n",
       "      <td>NaN</td>\n",
       "      <td>7</td>\n",
       "    </tr>\n",
       "  </tbody>\n",
       "</table>\n",
       "</div>"
      ],
      "text/plain": [
       "                 trip_id      bike_type          started_at  \\\n",
       "189347  4EFC95304E050AA1  electric_bike 2023-02-04 13:08:08   \n",
       "\n",
       "                  ended_at      start_station_name start_station_id  \\\n",
       "189347 2023-02-04 13:04:52  Dearborn St & Adams St     TA1305000005   \n",
       "\n",
       "               end_station_name end_station_id  start_lat  start_lng  \\\n",
       "189347  Dearborn St & Monroe St   TA1305000006      41.88     -87.63   \n",
       "\n",
       "         end_lat    end_lng user_type  trip_duration  day_of_week  \n",
       "189347  41.88132 -87.629521    member            NaN            7  "
      ]
     },
     "execution_count": 26,
     "metadata": {},
     "output_type": "execute_result"
    }
   ],
   "source": [
    "# Checked for rows with missing trip_duration values\n",
    "\n",
    "trip_duration_empty = cyclistic_df[cyclistic_df['trip_duration'].isna()]\n",
    "trip_duration_empty"
   ]
  },
  {
   "cell_type": "code",
   "execution_count": 27,
   "id": "2faa5ea5",
   "metadata": {},
   "outputs": [],
   "source": [
    "# Adjusted affected date columns\n",
    "\n",
    "error_trip_duration = cyclistic_df['trip_duration'].isna()\n",
    "\n",
    "corrected_date = {'started_at': 'ended_at', 'ended_at': 'started_at'}\n",
    "cyclistic_df.update(cyclistic_df.loc[error_trip_duration].rename(corrected_date, axis=1))"
   ]
  },
  {
   "cell_type": "code",
   "execution_count": 28,
   "id": "2300d2bd",
   "metadata": {},
   "outputs": [],
   "source": [
    "# Recalculated the 'trip_duration' variable\n",
    "\n",
    "cyclistic_df['trip_duration'] = cyclistic_df['ended_at'] -cyclistic_df['started_at']\n",
    "cyclistic_df['trip_duration'] = cyclistic_df['trip_duration'].dt.total_seconds().astype(\"int64\")"
   ]
  },
  {
   "cell_type": "code",
   "execution_count": 29,
   "id": "86adc680",
   "metadata": {},
   "outputs": [
    {
     "data": {
      "text/plain": [
       "trip_id               0\n",
       "bike_type             0\n",
       "started_at            0\n",
       "ended_at              0\n",
       "start_station_name    0\n",
       "start_station_id      0\n",
       "end_station_name      0\n",
       "end_station_id        0\n",
       "start_lat             0\n",
       "start_lng             0\n",
       "end_lat               0\n",
       "end_lng               0\n",
       "user_type             0\n",
       "trip_duration         0\n",
       "day_of_week           0\n",
       "dtype: int64"
      ]
     },
     "execution_count": 29,
     "metadata": {},
     "output_type": "execute_result"
    }
   ],
   "source": [
    "# Checked for other missing data\n",
    "\n",
    "cyclistic_df.isna().sum()"
   ]
  },
  {
   "cell_type": "markdown",
   "id": "809d1c9b",
   "metadata": {},
   "source": [
    "### Data Validation"
   ]
  },
  {
   "cell_type": "markdown",
   "id": "93ddab85",
   "metadata": {},
   "source": [
    "To validate the cleaning process and ensure the data are ready for further analysis, I performed the following steps on \n",
    "the cleaned data frame;\n",
    "1. Validated date consistency: \n",
    "I ensured the started_at is less than the ended_at for each trip."
   ]
  },
  {
   "cell_type": "code",
   "execution_count": 30,
   "id": "629958a7",
   "metadata": {},
   "outputs": [],
   "source": [
    "cyclistic_df = cyclistic_df[cyclistic_df['started_at'] < cyclistic_df['ended_at']]"
   ]
  },
  {
   "cell_type": "markdown",
   "id": "acb2d6f6",
   "metadata": {},
   "source": [
    "2. Validated data ranges: \n",
    "I examined the numerical columns (latitudes and longitudes) and ensured the values were within \n",
    "valid ranges for Chicago. Finding out through https://en-us.topographic-map.com/map-c6m2/Chicago/ that the geolocation \n",
    "coordinates for Chicago, Illinois, United States ranges from latitude (41.64453° N to 42.02304° N) and \n",
    "longitude (87.94010° W to 87.52408° W). I filtered the latitude values to range from 41.64453 to 42.02304, and longitude values \n",
    "from -87.94010 to -87.52408.  "
   ]
  },
  {
   "cell_type": "code",
   "execution_count": 31,
   "id": "3dcdecb6",
   "metadata": {},
   "outputs": [],
   "source": [
    "#Rounded up the latitude and longitude values to 5 decimal places and validated coordinates\n",
    "\n",
    "cyclistic_df[['start_lat', 'end_lat', 'start_lng', 'end_lng']].round(5)\n",
    "\n",
    "cyclistic_df = cyclistic_df[\n",
    "    (cyclistic_df['start_lat'].between(41.64453, 42.02304)) &\n",
    "    (cyclistic_df['end_lat'].between(41.64453, 42.02304)) &\n",
    "    (cyclistic_df['start_lng'].between(-87.94010, -87.52408)) &\n",
    "    (cyclistic_df['end_lng'].between(-87.94010, -87.52408))\n",
    "]"
   ]
  },
  {
   "cell_type": "markdown",
   "id": "8d88d879",
   "metadata": {},
   "source": [
    "3. Validated trip duration: \n",
    "I examined the trip_duration column and filtered out trip_duration that were equal to 0, as trips must be greater than 0 for trip duration to be calculated."
   ]
  },
  {
   "cell_type": "code",
   "execution_count": 32,
   "id": "26bb9973",
   "metadata": {},
   "outputs": [],
   "source": [
    "cyclistic_df = cyclistic_df[cyclistic_df['trip_duration'] > 0]"
   ]
  },
  {
   "cell_type": "code",
   "execution_count": 33,
   "id": "2579fa00",
   "metadata": {},
   "outputs": [],
   "source": [
    "# Saved each cleaned dataset file to the desired file type\n",
    "\n",
    "#cyclistic_df.to_excel('cleaned_data/202203-divvy-tripdata.xlsx', index=False)\n",
    "#cyclistic_df.to_excel('cleaned_data/202204-divvy-tripdata.xlsx', index=False)\n",
    "#cyclistic_df.to_excel('cleaned_data/202205-divvy-tripdata.xlsx', index=False)\n",
    "#cyclistic_df.to_excel('cleaned_data/202206-divvy-tripdata.xlsx', index=False)\n",
    "#cyclistic_df.to_excel('cleaned_data/202207-divvy-tripdata.xlsx', index=False)\n",
    "#cyclistic_df.to_excel('cleaned_data/202208-divvy-tripdata.xlsx', index=False)\n",
    "#cyclistic_df.to_excel('cleaned_data/202209-divvy-tripdata.xlsx', index=False)\n",
    "#cyclistic_df.to_excel('cleaned_data/202210-divvy-tripdata.xlsx', index=False)\n",
    "#cyclistic_df.to_excel('cleaned_data/202211-divvy-tripdata.xlsx', index=False)\n",
    "#cyclistic_df.to_excel('cleaned_data/202212-divvy-tripdata.xlsx', index=False)\n",
    "#cyclistic_df.to_excel('cleaned_data/202301-divvy-tripdata.xlsx', index=False)\n",
    "cyclistic_df.to_excel('cleaned_data/202302-divvy-tripdata.xlsx', index=False)"
   ]
  },
  {
   "cell_type": "markdown",
   "id": "e0343a6b",
   "metadata": {},
   "source": [
    "## Created by"
   ]
  },
  {
   "cell_type": "markdown",
   "id": "f122ca0b",
   "metadata": {},
   "source": [
    "Tobi Ibidapo-Obe"
   ]
  },
  {
   "cell_type": "markdown",
   "id": "d5a80892",
   "metadata": {},
   "source": [
    "## Change Log"
   ]
  },
  {
   "cell_type": "markdown",
   "id": "94a4eafb",
   "metadata": {},
   "source": [
    "| Date (DD-MM-YYYY) | Version |        Name       |      Change Description                |\n",
    "| ----------------- | ------- | ----------------- | -------------------------------------- |\n",
    "| 16-03-2023        | 0.1     | Tobi Ibidapo-Obe  | Created initial version of the notebook|\n"
   ]
  }
 ],
 "metadata": {
  "kernelspec": {
   "display_name": "Python 3",
   "language": "python",
   "name": "python3"
  },
  "language_info": {
   "codemirror_mode": {
    "name": "ipython",
    "version": 3
   },
   "file_extension": ".py",
   "mimetype": "text/x-python",
   "name": "python",
   "nbconvert_exporter": "python",
   "pygments_lexer": "ipython3",
   "version": "3.8.8"
  }
 },
 "nbformat": 4,
 "nbformat_minor": 5
}
