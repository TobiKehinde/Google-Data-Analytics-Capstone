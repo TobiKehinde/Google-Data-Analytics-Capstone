{
 "cells": [
  {
   "cell_type": "markdown",
   "id": "e5f10532",
   "metadata": {},
   "source": [
    "# ASK"
   ]
  },
  {
   "cell_type": "markdown",
   "id": "37588f0d",
   "metadata": {},
   "source": [
    "## Business Task: \n",
    "How are Cyclistic Casual riders different from Members?"
   ]
  },
  {
   "cell_type": "markdown",
   "id": "f24f7e42",
   "metadata": {},
   "source": [
    "### Specific objectives:\n",
    "\n",
    "As guide to answer the business task, I aimed to answer the following questions:\n",
    "1. Are there specific trends or patterns that distinguish the two user groups?\n",
    "2. How do casual riders and annual members differ in their usage patterns?\n",
    "3. What actionable steps can be taken to encourage casual riders convert to annual memberships?"
   ]
  }
 ],
 "metadata": {
  "kernelspec": {
   "display_name": "Python 3",
   "language": "python",
   "name": "python3"
  },
  "language_info": {
   "codemirror_mode": {
    "name": "ipython",
    "version": 3
   },
   "file_extension": ".py",
   "mimetype": "text/x-python",
   "name": "python",
   "nbconvert_exporter": "python",
   "pygments_lexer": "ipython3",
   "version": "3.8.8"
  }
 },
 "nbformat": 4,
 "nbformat_minor": 5
}
