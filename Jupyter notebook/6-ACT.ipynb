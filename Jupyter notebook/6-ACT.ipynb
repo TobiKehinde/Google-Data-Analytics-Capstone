{
 "cells": [
  {
   "cell_type": "markdown",
   "id": "f99931a2",
   "metadata": {},
   "source": [
    "# ACT"
   ]
  },
  {
   "cell_type": "markdown",
   "id": "ce449d01",
   "metadata": {},
   "source": [
    "### Recommendations"
   ]
  },
  {
   "cell_type": "markdown",
   "id": "388977c4",
   "metadata": {},
   "source": [
    "Actionable steps that can be taken to encourage Casual riders convert to annual memberships based on the findings include;\n",
    "1. Cost savings for long-term usage: Letting Casual riders know they can benefit from significant savings by opting for an annual membership instead of paying per ride. Data has shown casual riders have longer average trip durations. They might find annual membership more suitable knowing it allows them to enjoy extended rides without incurring additional costs. Cost-saving messages can persuade casual riders to become members.\n",
    "\n",
    "2. Improve Docked Bike Availability: Data shows members do not use docked bikes. For casual riders to become members, Cyclistic need  to consider improving docked bike availability and expand the bike network in stations used by member riders. Ensuring bikes are readily available at docking stations will help Cyclistic manage its newly complex membership base.\n",
    "\n",
    "3. Personalized membership messages along Popular Casual routes: Create personalized membership messages on social media platforms, to target locations and  along popular routes taken by casual riders. Such messages when seen can convince casual members to apply for membership."
   ]
  }
 ],
 "metadata": {
  "kernelspec": {
   "display_name": "Python 3",
   "language": "python",
   "name": "python3"
  },
  "language_info": {
   "codemirror_mode": {
    "name": "ipython",
    "version": 3
   },
   "file_extension": ".py",
   "mimetype": "text/x-python",
   "name": "python",
   "nbconvert_exporter": "python",
   "pygments_lexer": "ipython3",
   "version": "3.8.8"
  }
 },
 "nbformat": 4,
 "nbformat_minor": 5
}
